{
 "cells": [
  {
   "cell_type": "code",
   "execution_count": 1,
   "id": "82d287de",
   "metadata": {},
   "outputs": [],
   "source": [
    "import cv2\n",
    "from twilio.rest import Client\n"
   ]
  },
  {
   "cell_type": "code",
   "execution_count": 2,
   "id": "83481be0",
   "metadata": {},
   "outputs": [],
   "source": [
    "account_sid = 'AC843a18d5b7dd6422dace99964c8a5335'\n",
    "auth_token = 'c1b95ca92d0c9443a40b1a17eb1c4794'"
   ]
  },
  {
   "cell_type": "code",
   "execution_count": 3,
   "id": "b3b04ea7",
   "metadata": {},
   "outputs": [],
   "source": [
    "client = Client(account_sid, auth_token)\n",
    "to_phone_number = '+919983166632'"
   ]
  },
  {
   "cell_type": "code",
   "execution_count": 4,
   "id": "57fdf061",
   "metadata": {},
   "outputs": [],
   "source": [
    "model=cv2.dnn_DetectionModel('frozen_inference_graph.pb','ssd_mobilenet_v3_large_coco_2020_01_14.pbtxt')"
   ]
  },
  {
   "cell_type": "code",
   "execution_count": 5,
   "id": "07af0053",
   "metadata": {},
   "outputs": [],
   "source": [
    "\n",
    "classlabel=[]\n",
    "file_name=\"labels.txt\"\n",
    "\n",
    "with open(file_name,'rt') as tf:\n",
    "    classlabel=tf.read().rstrip('\\n').split('\\n')"
   ]
  },
  {
   "cell_type": "code",
   "execution_count": 6,
   "id": "db440404",
   "metadata": {},
   "outputs": [],
   "source": [
    "# classlabel"
   ]
  },
  {
   "cell_type": "code",
   "execution_count": 7,
   "id": "8cd1ea83",
   "metadata": {},
   "outputs": [
    {
     "data": {
      "text/plain": [
       "< cv2.dnn.Model 000001FAE34ABBB0>"
      ]
     },
     "execution_count": 7,
     "metadata": {},
     "output_type": "execute_result"
    }
   ],
   "source": [
    "model.setInputSize(320,320)\n",
    "model.setInputScale(1.0/ 127.5)\n",
    "model.setInputMean((127.5, 127.5, 127.5))\n",
    "model.setInputSwapRB(True)"
   ]
  },
  {
   "cell_type": "code",
   "execution_count": 11,
   "id": "e8bfbdad",
   "metadata": {},
   "outputs": [],
   "source": [
    "cap=cv2.VideoCapture(0)\n",
    "\n",
    "font_scale=3\n",
    "font=cv2.FONT_HERSHEY_PLAIN\n",
    "name=[]\n",
    "while True:\n",
    "    ret,frame=cap.read()\n",
    "    \n",
    "    classindex,confidence,bbox=model.detect(frame)\n",
    "    \n",
    "    if (len(classindex) != 0):\n",
    "        for classindex,conf,boxes in zip(classindex.flatten(),confidence.flatten(),bbox):\n",
    "            if (classindex <= 2) :\n",
    "                cv2.rectangle(frame,boxes,(255,0,0),2)\n",
    "                cv2.putText(frame,classlabel[classindex-1],(boxes[0]+10,boxes[1]+40),font,font_scale,color=(0,255,0),thickness=3)\n",
    "#                 if (classlabel[classindex-1]=='person'):\n",
    "#                     message = client.messages.create(\n",
    "#                     to=to_phone_number,\n",
    "#                     from_='+15856591409',  # Your Twilio phone number\n",
    "#                     body='hello my name is rajendra')\n",
    "    \n",
    "    cv2.imshow(\"obj detection\",frame)\n",
    "    \n",
    "    if cv2.waitKey(2) & 0xff==ord('q'):\n",
    "        break\n",
    "    \n",
    "    \n",
    "cap.release()\n",
    "cv2.destroyAllWindows()"
   ]
  },
  {
   "cell_type": "code",
   "execution_count": 9,
   "id": "4abe1562",
   "metadata": {},
   "outputs": [
    {
     "data": {
      "text/plain": [
       "map"
      ]
     },
     "execution_count": 9,
     "metadata": {},
     "output_type": "execute_result"
    }
   ],
   "source": [
    "map"
   ]
  },
  {
   "cell_type": "code",
   "execution_count": null,
   "id": "a9ccc1b5",
   "metadata": {},
   "outputs": [],
   "source": []
  }
 ],
 "metadata": {
  "kernelspec": {
   "display_name": "Python 3 (ipykernel)",
   "language": "python",
   "name": "python3"
  },
  "language_info": {
   "codemirror_mode": {
    "name": "ipython",
    "version": 3
   },
   "file_extension": ".py",
   "mimetype": "text/x-python",
   "name": "python",
   "nbconvert_exporter": "python",
   "pygments_lexer": "ipython3",
   "version": "3.10.9"
  }
 },
 "nbformat": 4,
 "nbformat_minor": 5
}
