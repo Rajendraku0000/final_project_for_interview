{
 "cells": [
  {
   "cell_type": "code",
   "execution_count": 1,
   "id": "4633bde9",
   "metadata": {},
   "outputs": [],
   "source": [
    "import cv2\n",
    "import face_recognition"
   ]
  },
  {
   "cell_type": "code",
   "execution_count": 2,
   "id": "4eef1196",
   "metadata": {},
   "outputs": [],
   "source": [
    "import numpy as np\n",
    "from datetime import datetime\n"
   ]
  },
  {
   "cell_type": "code",
   "execution_count": 3,
   "id": "2f30bcb8",
   "metadata": {},
   "outputs": [],
   "source": [
    "import pandas as pd\n",
    "import mysql.connector"
   ]
  },
  {
   "cell_type": "code",
   "execution_count": 4,
   "id": "918abf85",
   "metadata": {},
   "outputs": [],
   "source": [
    "connector=mysql.connector.connect(host=\"localhost\",user=\"root\",password=\"kempk2933g\",database=\"employee\")\n",
    "cursor=connector.cursor()"
   ]
  },
  {
   "cell_type": "code",
   "execution_count": 5,
   "id": "a78c3b04",
   "metadata": {},
   "outputs": [],
   "source": [
    "akshay_img=face_recognition.load_image_file(\"C:\\\\Users\\\\rajen\\\\OneDrive\\Desktop\\\\Final project for interview\\\\Face attenadnce System\\\\Face-recognition\\\\akshay.jpg\")\n",
    "akshay_encoding = face_recognition.face_encodings(akshay_img)[0]\n",
    "\n",
    "rajendra_img = face_recognition.load_image_file(\"C:\\\\Users\\\\rajen\\\\OneDrive\\Desktop\\\\Final project for interview\\\\Face attenadnce System\\\\Face-recognition\\\\raj.jpg\")\n",
    "rajendra_encoding  = face_recognition.face_encodings(rajendra_img)[0]\n",
    "\n",
    "navi_img = face_recognition.load_image_file(\"C:\\\\Users\\\\rajen\\\\OneDrive\\Desktop\\\\Final project for interview\\\\Face attenadnce System\\\\Face-recognition\\\\navi.jpg\")\n",
    "navi_encoding  = face_recognition.face_encodings(navi_img)[0]\n",
    "\n",
    "ramgopal_img = face_recognition.load_image_file(\"C:\\\\Users\\\\rajen\\\\OneDrive\\Desktop\\\\Final project for interview\\\\Face attenadnce System\\\\Face-recognition\\\\ram.jpg\")\n",
    "ramgopal_encoding  = face_recognition.face_encodings(ramgopal_img)[0]\n",
    "\n",
    "subham_img = face_recognition.load_image_file(\"C:\\\\Users\\\\rajen\\\\OneDrive\\Desktop\\\\Final project for interview\\\\Face attenadnce System\\\\Face-recognition\\\\subh.jpg\")\n",
    "subham_encoding  = face_recognition.face_encodings(subham_img)[0]\n",
    "\n",
    "saurabh_img = face_recognition.load_image_file(\"C:\\\\Users\\\\rajen\\\\OneDrive\\Desktop\\\\Final project for interview\\\\Face attenadnce System\\\\Face-recognition\\\\saurabh.jpg\")\n",
    "saurabh_encoding  = face_recognition.face_encodings(saurabh_img)[0]\n",
    "\n",
    "sarim_img = face_recognition.load_image_file(\"C:\\\\Users\\\\rajen\\\\OneDrive\\Desktop\\\\Final project for interview\\\\Face attenadnce System\\\\Face-recognition\\\\sarim.jpg\")\n",
    "sarim_encoding  = face_recognition.face_encodings(sarim_img)[0]\n",
    "\n",
    "govind_img = face_recognition.load_image_file(\"C:\\\\Users\\\\rajen\\\\OneDrive\\Desktop\\\\Final project for interview\\\\Face attenadnce System\\\\Face-recognition\\\\sarim.jpg\")\n",
    "govind_encoding  = face_recognition.face_encodings(govind_img)[0]\n",
    "\n",
    "know_face_encoding=[akshay_encoding , rajendra_encoding , navi_encoding , ramgopal_encoding , subham_encoding , saurabh_encoding,sarim_encoding,govind_encoding]\n",
    "know_face_name=[\"akshay\" , \"rajendra\" , \"navi\" , \"ramgopal\" , \"subham\" , \"saurabh\" ,\"sarim\",\"Govind\"]\n",
    "\n",
    "\n",
    "employees=know_face_name.copy()\n",
    "\n",
    "face_locations=[]\n",
    "face_encodings = []\n",
    "face_names=[]\n",
    "s=True"
   ]
  },
  {
   "cell_type": "code",
   "execution_count": 6,
   "id": "109b83ad",
   "metadata": {},
   "outputs": [],
   "source": [
    "attend=[]\n",
    "cap = cv2.VideoCapture(0)\n",
    "\n",
    "while True:\n",
    "    _, frame = cap.read()\n",
    "    small_frame = cv2.resize(frame, (0, 0), fx=0.25, fy=0.25)\n",
    "    rgb_small_frame = small_frame[:, :, ::-1]\n",
    "\n",
    "    face_locations = face_recognition.face_locations(rgb_small_frame)\n",
    "    face_encodings = face_recognition.face_encodings(rgb_small_frame, face_locations)\n",
    "    face_names = []\n",
    "\n",
    "    for face_encoding in face_encodings:\n",
    "        matches = face_recognition.compare_faces(know_face_encoding, face_encoding)\n",
    "        name = ''\n",
    "        face_distances = face_recognition.face_distance(know_face_encoding, face_encoding)\n",
    "        best_match_index = np.argmin(face_distances)\n",
    "        \n",
    "        if matches[best_match_index]:\n",
    "            name = know_face_name[best_match_index]\n",
    "            \n",
    "        face_names.append(name)\n",
    "        \n",
    "        if name in know_face_name:\n",
    "            if name in employees:\n",
    "                employees.remove(name)\n",
    "        attend.append(name)\n",
    "        if attend.count(name)==1:\n",
    "            query=\"insert into attendance values('{}',now())\".format(name)\n",
    "            cursor.execute(query)\n",
    "            query=\"commit\"\n",
    "            cursor.execute(query)\n",
    "\n",
    "    # show  the recognized names on the images  frames\n",
    "    for (top, right, bottom, left), name in zip(face_locations, face_names):\n",
    "            top *= 4\n",
    "            right *= 4\n",
    "            bottom *= 4\n",
    "            left *= 4\n",
    "            cv2.rectangle(frame, (left, top), (right, bottom), (0, 255, 0), 2)  # Change color to green\n",
    "            cv2.putText(frame, name, (left + 6, bottom - 6), cv2.FONT_HERSHEY_SIMPLEX, 0.5, (255, 255, 255), 1)\n",
    "\n",
    "            cv2.imshow(\" Face-Recognition-Attendance-System\", frame)\n",
    "    \n",
    "    \n",
    "    \n",
    "    if cv2.waitKey(1) & 0xFF == ord(\"q\"):\n",
    "        break\n",
    "\n",
    "cap.release()\n",
    "cv2.destroyAllWindows()\n"
   ]
  },
  {
   "cell_type": "code",
   "execution_count": null,
   "id": "34bea71a",
   "metadata": {},
   "outputs": [],
   "source": []
  }
 ],
 "metadata": {
  "kernelspec": {
   "display_name": "Python 3 (ipykernel)",
   "language": "python",
   "name": "python3"
  },
  "language_info": {
   "codemirror_mode": {
    "name": "ipython",
    "version": 3
   },
   "file_extension": ".py",
   "mimetype": "text/x-python",
   "name": "python",
   "nbconvert_exporter": "python",
   "pygments_lexer": "ipython3",
   "version": "3.10.9"
  }
 },
 "nbformat": 4,
 "nbformat_minor": 5
}
