{
 "cells": [
  {
   "cell_type": "code",
   "execution_count": 2,
   "id": "971f40e1",
   "metadata": {},
   "outputs": [],
   "source": [
    "# import tensorflow as tf\n",
    "import cv2\n",
    "import time"
   ]
  },
  {
   "cell_type": "code",
   "execution_count": 3,
   "id": "b612458b",
   "metadata": {},
   "outputs": [],
   "source": [
    "import cv2\n",
    "\n",
    "# Open a video capture object (camera)\n",
    "cap = cv2.VideoCapture(0)  # 0 for the default camera (you can change this if you have multiple cameras)\n",
    "\n",
    "# Check if the camera opened successfully\n",
    "if not cap.isOpened():\n",
    "    print(\"Error: Could not open camera.\")\n",
    "    exit()\n",
    "# count=0\n",
    "while True:\n",
    "#     count=count+1\n",
    "#     time.sleep(3)\n",
    "    # Capture a frame from the camera\n",
    "    ret, frame = cap.read()\n",
    "\n",
    "    # Display the frame in a window\n",
    "    cv2.imshow(\"Capture Photo\", frame)\n",
    "#     cv2.imwrite(\"captured_photo\"+str(count)+\".jpg\", frame)\n",
    "\n",
    "    # Check for the 'q' key to exit the loop\n",
    "    if cv2.waitKey(1) & 0xFF == ord('q'):\n",
    "        break\n",
    "\n",
    "# Release the camera and close the OpenCV window\n",
    "cap.release()\n",
    "cv2.destroyAllWindows()\n",
    "\n",
    "# Save the captured frame as an image file (e.g., JPEG)\n",
    "if ret:\n",
    "    cv2.imwrite(\"captured_photo\"+str(1)+\".jpg\", frame)\n",
    "#     print(\"Photo captured and saved as 'captured_photo.jpg'\")\n",
    "else:\n",
    "    print(\"Failed to capture a photo.\")"
   ]
  },
  {
   "cell_type": "code",
   "execution_count": null,
   "id": "2f81c712",
   "metadata": {},
   "outputs": [],
   "source": []
  },
  {
   "cell_type": "code",
   "execution_count": null,
   "id": "d2ace97a",
   "metadata": {},
   "outputs": [],
   "source": []
  },
  {
   "cell_type": "code",
   "execution_count": null,
   "id": "d700cfef",
   "metadata": {},
   "outputs": [],
   "source": []
  }
 ],
 "metadata": {
  "kernelspec": {
   "display_name": "Python 3 (ipykernel)",
   "language": "python",
   "name": "python3"
  },
  "language_info": {
   "codemirror_mode": {
    "name": "ipython",
    "version": 3
   },
   "file_extension": ".py",
   "mimetype": "text/x-python",
   "name": "python",
   "nbconvert_exporter": "python",
   "pygments_lexer": "ipython3",
   "version": "3.10.9"
  }
 },
 "nbformat": 4,
 "nbformat_minor": 5
}
