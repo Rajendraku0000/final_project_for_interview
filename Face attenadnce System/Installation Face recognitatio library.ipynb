{
 "cells": [
  {
   "cell_type": "code",
   "execution_count": 11,
   "id": "44b72877",
   "metadata": {},
   "outputs": [],
   "source": [
    "import cv2"
   ]
  },
  {
   "cell_type": "code",
   "execution_count": 12,
   "id": "b8d1f18c",
   "metadata": {},
   "outputs": [
    {
     "name": "stdout",
     "output_type": "stream",
     "text": [
      "Microsoft Windows [Version 10.0.22621.2283]\n",
      "(c) Microsoft Corporation. All rights reserved.\n",
      "\n",
      "C:\\Users\\rajen\\OneDrive\\Desktop\\Open cv projects>where python \n",
      "C:\\Users\\rajen\\anaconda3\\python.exe\n",
      "C:\\Users\\rajen\\AppData\\Local\\Microsoft\\WindowsApps\\python.exe\n",
      "\n",
      "C:\\Users\\rajen\\OneDrive\\Desktop\\Open cv projects>"
     ]
    }
   ],
   "source": [
    "%%cmd\n",
    "where python "
   ]
  },
  {
   "cell_type": "code",
   "execution_count": 13,
   "id": "a6bc44af",
   "metadata": {},
   "outputs": [
    {
     "name": "stdout",
     "output_type": "stream",
     "text": [
      "Microsoft Windows [Version 10.0.22621.2283]\n",
      "(c) Microsoft Corporation. All rights reserved.\n",
      "\n",
      "C:\\Users\\rajen\\OneDrive\\Desktop\\Open cv projects>pip install cmake\n",
      "Requirement already satisfied: cmake in c:\\users\\rajen\\anaconda3\\lib\\site-packages (3.27.5)\n",
      "\n",
      "C:\\Users\\rajen\\OneDrive\\Desktop\\Open cv projects>"
     ]
    }
   ],
   "source": [
    "%%cmd\n",
    "pip install cmake"
   ]
  },
  {
   "cell_type": "code",
   "execution_count": 15,
   "id": "3aa1cb10",
   "metadata": {},
   "outputs": [],
   "source": [
    "# %%cmd\n",
    "# pip install dlib"
   ]
  },
  {
   "cell_type": "code",
   "execution_count": 16,
   "id": "13958ee9",
   "metadata": {},
   "outputs": [
    {
     "name": "stdout",
     "output_type": "stream",
     "text": [
      "Microsoft Windows [Version 10.0.22621.2283]\n",
      "(c) Microsoft Corporation. All rights reserved.\n",
      "\n",
      "C:\\Users\\rajen\\OneDrive\\Desktop\\Open cv projects>python --version\n",
      "Python 3.10.9\n",
      "\n",
      "C:\\Users\\rajen\\OneDrive\\Desktop\\Open cv projects>"
     ]
    }
   ],
   "source": [
    "%%cmd\n",
    "python --version"
   ]
  },
  {
   "cell_type": "code",
   "execution_count": 17,
   "id": "cb213cbe",
   "metadata": {},
   "outputs": [
    {
     "name": "stdout",
     "output_type": "stream",
     "text": [
      "Microsoft Windows [Version 10.0.22621.2283]\n",
      "(c) Microsoft Corporation. All rights reserved.\n",
      "\n",
      "C:\\Users\\rajen\\OneDrive\\Desktop\\Open cv projects>pip install \"C:\\Users\\rajen\\OneDrive\\Desktop\\Dlib-python whl packages\\dlib-19.22.99-cp310-cp310-win_amd64.whl\"\n",
      "Processing c:\\users\\rajen\\onedrive\\desktop\\dlib-python whl packages\\dlib-19.22.99-cp310-cp310-win_amd64.whl\n",
      "Installing collected packages: dlib\n",
      "Successfully installed dlib-19.22.99\n",
      "\n",
      "C:\\Users\\rajen\\OneDrive\\Desktop\\Open cv projects>"
     ]
    }
   ],
   "source": [
    "%%cmd\n",
    "pip install \"C:\\Users\\rajen\\OneDrive\\Desktop\\Dlib-python whl packages\\dlib-19.22.99-cp310-cp310-win_amd64.whl\""
   ]
  },
  {
   "cell_type": "code",
   "execution_count": 19,
   "id": "3c17ed6b",
   "metadata": {},
   "outputs": [
    {
     "name": "stdout",
     "output_type": "stream",
     "text": [
      "Microsoft Windows [Version 10.0.22621.2283]\n",
      "(c) Microsoft Corporation. All rights reserved.\n",
      "\n",
      "C:\\Users\\rajen\\OneDrive\\Desktop\\Open cv projects>pip install face-recognition\n",
      "Collecting face-recognition\n",
      "  Using cached face_recognition-1.3.0-py2.py3-none-any.whl (15 kB)\n",
      "Collecting face-recognition-models>=0.3.0\n",
      "  Using cached face_recognition_models-0.3.0-py2.py3-none-any.whl\n",
      "Requirement already satisfied: Click>=6.0 in c:\\users\\rajen\\anaconda3\\lib\\site-packages (from face-recognition) (8.0.4)\n",
      "Requirement already satisfied: dlib>=19.7 in c:\\users\\rajen\\anaconda3\\lib\\site-packages (from face-recognition) (19.22.99)\n",
      "Requirement already satisfied: Pillow in c:\\users\\rajen\\anaconda3\\lib\\site-packages (from face-recognition) (9.4.0)\n",
      "Requirement already satisfied: numpy in c:\\users\\rajen\\anaconda3\\lib\\site-packages (from face-recognition) (1.23.5)\n",
      "Requirement already satisfied: colorama in c:\\users\\rajen\\anaconda3\\lib\\site-packages (from Click>=6.0->face-recognition) (0.4.6)\n",
      "Installing collected packages: face-recognition-models, face-recognition\n",
      "Successfully installed face-recognition-1.3.0 face-recognition-models-0.3.0\n",
      "\n",
      "C:\\Users\\rajen\\OneDrive\\Desktop\\Open cv projects>"
     ]
    }
   ],
   "source": [
    "%%cmd\n",
    "pip install face-recognition"
   ]
  },
  {
   "cell_type": "code",
   "execution_count": 20,
   "id": "3f92691d",
   "metadata": {},
   "outputs": [],
   "source": [
    "import  face_recognition"
   ]
  },
  {
   "cell_type": "code",
   "execution_count": null,
   "id": "482d39c4",
   "metadata": {},
   "outputs": [],
   "source": []
  }
 ],
 "metadata": {
  "kernelspec": {
   "display_name": "Python 3 (ipykernel)",
   "language": "python",
   "name": "python3"
  },
  "language_info": {
   "codemirror_mode": {
    "name": "ipython",
    "version": 3
   },
   "file_extension": ".py",
   "mimetype": "text/x-python",
   "name": "python",
   "nbconvert_exporter": "python",
   "pygments_lexer": "ipython3",
   "version": "3.10.9"
  }
 },
 "nbformat": 4,
 "nbformat_minor": 5
}
