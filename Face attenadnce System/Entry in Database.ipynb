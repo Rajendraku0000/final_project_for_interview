{
 "cells": [
  {
   "cell_type": "code",
   "execution_count": 2,
   "id": "35315a0c",
   "metadata": {},
   "outputs": [],
   "source": [
    "import numpy as np\n",
    "import pandas as pd\n",
    "import time \n",
    "import datetime\n",
    "import mysql.connector\n"
   ]
  },
  {
   "cell_type": "code",
   "execution_count": 3,
   "id": "b58a9a3e",
   "metadata": {},
   "outputs": [],
   "source": [
    "connector=mysql.connector.connect(host=\"localhost\",user=\"root\",password=\"kempk2933g\",database=\"employee\")\n",
    "cursor=connector.cursor()"
   ]
  },
  {
   "cell_type": "code",
   "execution_count": 4,
   "id": "d3553090",
   "metadata": {},
   "outputs": [],
   "source": []
  },
  {
   "cell_type": "code",
   "execution_count": 6,
   "id": "463227e0",
   "metadata": {},
   "outputs": [],
   "source": [
    "query=\"insert into emp_attendance values('rajendra',now())\"\n",
    "cursor.execute(query)\n",
    "\n",
    "\n",
    "query=\"select * from emp_attendance\"\n",
    "cursor.execute(query)\n",
    "data=cursor.fetchall()\n",
    "\n",
    "query=\"commit\"\n",
    "cursor.execute(query)\n"
   ]
  },
  {
   "cell_type": "code",
   "execution_count": 19,
   "id": "23edbbe1",
   "metadata": {
    "scrolled": true
   },
   "outputs": [
    {
     "data": {
      "text/html": [
       "<div>\n",
       "<style scoped>\n",
       "    .dataframe tbody tr th:only-of-type {\n",
       "        vertical-align: middle;\n",
       "    }\n",
       "\n",
       "    .dataframe tbody tr th {\n",
       "        vertical-align: top;\n",
       "    }\n",
       "\n",
       "    .dataframe thead th {\n",
       "        text-align: right;\n",
       "    }\n",
       "</style>\n",
       "<table border=\"1\" class=\"dataframe\">\n",
       "  <thead>\n",
       "    <tr style=\"text-align: right;\">\n",
       "      <th></th>\n",
       "      <th>Name</th>\n",
       "      <th>Time</th>\n",
       "    </tr>\n",
       "  </thead>\n",
       "  <tbody>\n",
       "    <tr>\n",
       "      <th>0</th>\n",
       "      <td>rajendra</td>\n",
       "      <td>2023-09-17 17:23:06</td>\n",
       "    </tr>\n",
       "    <tr>\n",
       "      <th>1</th>\n",
       "      <td>ram</td>\n",
       "      <td>2023-09-17 17:35:47</td>\n",
       "    </tr>\n",
       "    <tr>\n",
       "      <th>2</th>\n",
       "      <td>abc</td>\n",
       "      <td>2023-09-17 17:39:49</td>\n",
       "    </tr>\n",
       "    <tr>\n",
       "      <th>3</th>\n",
       "      <td>manoj</td>\n",
       "      <td>2023-09-17 17:40:04</td>\n",
       "    </tr>\n",
       "    <tr>\n",
       "      <th>4</th>\n",
       "      <td>manoj</td>\n",
       "      <td>2023-09-17 17:42:42</td>\n",
       "    </tr>\n",
       "    <tr>\n",
       "      <th>5</th>\n",
       "      <td>manoj</td>\n",
       "      <td>2023-09-17 17:42:43</td>\n",
       "    </tr>\n",
       "    <tr>\n",
       "      <th>6</th>\n",
       "      <td>manoj</td>\n",
       "      <td>2023-09-17 17:42:46</td>\n",
       "    </tr>\n",
       "  </tbody>\n",
       "</table>\n",
       "</div>"
      ],
      "text/plain": [
       "       Name                Time\n",
       "0  rajendra 2023-09-17 17:23:06\n",
       "1       ram 2023-09-17 17:35:47\n",
       "2       abc 2023-09-17 17:39:49\n",
       "3     manoj 2023-09-17 17:40:04\n",
       "4     manoj 2023-09-17 17:42:42\n",
       "5     manoj 2023-09-17 17:42:43\n",
       "6     manoj 2023-09-17 17:42:46"
      ]
     },
     "execution_count": 19,
     "metadata": {},
     "output_type": "execute_result"
    }
   ],
   "source": [
    "df=[]\n",
    "for datas in data:\n",
    "    df.append(datas)\n",
    "df=pd.DataFrame(df,columns=[\"Name\",\"Time\"])\n",
    "df"
   ]
  },
  {
   "cell_type": "code",
   "execution_count": 6,
   "id": "c00ec51e",
   "metadata": {},
   "outputs": [
    {
     "name": "stderr",
     "output_type": "stream",
     "text": [
      "C:\\Users\\rajen\\AppData\\Local\\Temp\\ipykernel_2932\\4173712164.py:1: UserWarning: pandas only supports SQLAlchemy connectable (engine/connection) or database string URI or sqlite3 DBAPI2 connection. Other DBAPI2 objects are not tested. Please consider using SQLAlchemy.\n",
      "  df=pd.read_sql_query(query,connector)\n"
     ]
    }
   ],
   "source": [
    "df=pd.read_sql_query(query,connector)"
   ]
  },
  {
   "cell_type": "code",
   "execution_count": null,
   "id": "64aa846e",
   "metadata": {},
   "outputs": [],
   "source": []
  },
  {
   "cell_type": "code",
   "execution_count": null,
   "id": "5d729d96",
   "metadata": {},
   "outputs": [],
   "source": []
  }
 ],
 "metadata": {
  "kernelspec": {
   "display_name": "Python 3 (ipykernel)",
   "language": "python",
   "name": "python3"
  },
  "language_info": {
   "codemirror_mode": {
    "name": "ipython",
    "version": 3
   },
   "file_extension": ".py",
   "mimetype": "text/x-python",
   "name": "python",
   "nbconvert_exporter": "python",
   "pygments_lexer": "ipython3",
   "version": "3.10.9"
  }
 },
 "nbformat": 4,
 "nbformat_minor": 5
}
