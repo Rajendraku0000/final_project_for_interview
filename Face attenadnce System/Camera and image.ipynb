{
 "cells": [
  {
   "cell_type": "code",
   "execution_count": 1,
   "id": "6fe9461e",
   "metadata": {},
   "outputs": [],
   "source": [
    "import cv2\n",
    "import time"
   ]
  },
  {
   "cell_type": "code",
   "execution_count": 3,
   "id": "d02da36c",
   "metadata": {},
   "outputs": [],
   "source": [
    "# cap = cv2.VideoCapture(0)\n",
    "# face_cascade = cv2.CascadeClassifier('haarcascade_frontalface_default.xml')\n"
   ]
  },
  {
   "cell_type": "code",
   "execution_count": 4,
   "id": "5f6a0465",
   "metadata": {},
   "outputs": [],
   "source": [
    "# while True:\n",
    "#     ret, frame = cap.read()\n",
    "#     gray = cv2.cvtColor(frame, cv2.COLOR_BGR2GRAY)\n",
    "# #     faces = face_cascade.detectMultiScale(gray, scaleFactor=1.3, minNeighbors=5)\n",
    "\n",
    "# #     for (x, y, w, h) in faces:\n",
    "# #         roi_gray = gray[y:y+h, x:x+w]\n",
    "# #         # You can use a face recognition model here to recognize the person.\n",
    "# #         # For simplicity, we'll just ask for the name as input in this example.\n",
    "# #         name = input(\"Enter the name of the person: \")\n",
    "# #         mark_attendance(name)\n",
    "# #         cv2.rectangle(frame, (x, y), (x+w, y+h), (0, 255, 0), 2)\n",
    "\n",
    "#     cv2.imshow('Face Attendance', frame)\n",
    "\n",
    "#     if cv2.waitKey(1) & 0xFF == ord('q'):\n",
    "#         break\n",
    "\n",
    "# cap.release()\n",
    "# cv2.destroyAllWindows()"
   ]
  },
  {
   "cell_type": "code",
   "execution_count": null,
   "id": "816f1d78",
   "metadata": {},
   "outputs": [],
   "source": []
  },
  {
   "cell_type": "code",
   "execution_count": null,
   "id": "f62c3b3a",
   "metadata": {},
   "outputs": [],
   "source": []
  },
  {
   "cell_type": "code",
   "execution_count": 5,
   "id": "0d720ad2",
   "metadata": {},
   "outputs": [],
   "source": [
    "# import cv2\n",
    "\n",
    "# # Open a video capture object (camera)\n",
    "# cap = cv2.VideoCapture(0)  # 0 for the default camera (you can change this if you have multiple cameras)\n",
    "\n",
    "# # Check if the camera opened successfully\n",
    "# if not cap.isOpened():\n",
    "#     print(\"Error: Could not open camera.\")\n",
    "#     exit()\n",
    "\n",
    "# while True:\n",
    "#     # Capture a frame from the camera\n",
    "#     ret, frame = cap.read()\n",
    "\n",
    "#     # Display the frame in a window\n",
    "#     cv2.imshow(\"Capture Photo\", frame)\n",
    "#     cv2.imwrite(\"captured_photo.jpg\", frame)\n",
    "# #     time.sleep(5000)\n",
    "\n",
    "#     # Check for the 'q' key to exit the loop\n",
    "#     if cv2.waitKey(1) & 0xFF == ord('q'):\n",
    "#         break\n",
    "\n",
    "# # Release the camera and close the OpenCV window\n",
    "# cap.release()\n",
    "# cv2.destroyAllWindows()\n",
    "\n",
    "# # Save the captured frame as an image file (e.g., JPEG)\n",
    "# if ret:\n",
    "#     cv2.imwrite(\"captured_photo.jpg\", frame)\n",
    "#     print(\"Photo captured and saved as 'captured_photo.jpg'\")\n",
    "# else:\n",
    "#     print(\"Failed to capture a photo.\")"
   ]
  },
  {
   "cell_type": "code",
   "execution_count": null,
   "id": "4b39a8b8",
   "metadata": {},
   "outputs": [],
   "source": []
  },
  {
   "cell_type": "code",
   "execution_count": null,
   "id": "cb82998c",
   "metadata": {},
   "outputs": [],
   "source": []
  },
  {
   "cell_type": "code",
   "execution_count": 2,
   "id": "d4f068a8",
   "metadata": {},
   "outputs": [],
   "source": [
    "import cv2\n",
    "\n",
    "# Open a video capture object (camera)\n",
    "cap = cv2.VideoCapture(0)  # 0 for the default camera (you can change this if you have multiple cameras)\n",
    "\n",
    "# Check if the camera opened successfully\n",
    "if not cap.isOpened():\n",
    "    print(\"Error: Could not open camera.\")\n",
    "    exit()\n",
    "# count=0\n",
    "while True:\n",
    "#     count=count+1\n",
    "#     time.sleep(3)\n",
    "    # Capture a frame from the camera\n",
    "    ret, frame = cap.read()\n",
    "\n",
    "    # Display the frame in a window\n",
    "    cv2.imshow(\"Capture Photo\", frame)\n",
    "#     cv2.imwrite(\"captured_photo\"+str(count)+\".jpg\", frame)\n",
    "\n",
    "    # Check for the 'q' key to exit the loop\n",
    "    if cv2.waitKey(1) & 0xFF == ord('q'):\n",
    "        break\n",
    "\n",
    "# Release the camera and close the OpenCV window\n",
    "cap.release()\n",
    "cv2.destroyAllWindows()\n",
    "\n",
    "# Save the captured frame as an image file (e.g., JPEG)\n",
    "if ret:\n",
    "    cv2.imwrite(\"captured_photo.jpg\", frame)\n",
    "#     print(\"Photo captured and saved as 'captured_photo.jpg'\")\n",
    "else:\n",
    "    print(\"Failed to capture a photo.\")"
   ]
  },
  {
   "cell_type": "code",
   "execution_count": null,
   "id": "f283b0f9",
   "metadata": {},
   "outputs": [],
   "source": []
  },
  {
   "cell_type": "code",
   "execution_count": null,
   "id": "982dd1d8",
   "metadata": {},
   "outputs": [],
   "source": []
  }
 ],
 "metadata": {
  "kernelspec": {
   "display_name": "Python 3 (ipykernel)",
   "language": "python",
   "name": "python3"
  },
  "language_info": {
   "codemirror_mode": {
    "name": "ipython",
    "version": 3
   },
   "file_extension": ".py",
   "mimetype": "text/x-python",
   "name": "python",
   "nbconvert_exporter": "python",
   "pygments_lexer": "ipython3",
   "version": "3.10.9"
  }
 },
 "nbformat": 4,
 "nbformat_minor": 5
}
