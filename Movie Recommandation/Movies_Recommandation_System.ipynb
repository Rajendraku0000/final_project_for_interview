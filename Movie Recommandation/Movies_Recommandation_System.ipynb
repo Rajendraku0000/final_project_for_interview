{
 "cells": [
  {
   "cell_type": "code",
   "execution_count": null,
   "id": "1a983c65",
   "metadata": {},
   "outputs": [],
   "source": [
    "import numpy as np\n",
    "import pandas as pd"
   ]
  },
  {
   "cell_type": "code",
   "execution_count": null,
   "id": "cb9d5737",
   "metadata": {},
   "outputs": [],
   "source": [
    "movies=pd.read_csv(\"Movies_Data.csv\")"
   ]
  },
  {
   "cell_type": "code",
   "execution_count": null,
   "id": "08eb20f3",
   "metadata": {},
   "outputs": [],
   "source": [
    "movies.isnull().sum()"
   ]
  },
  {
   "cell_type": "code",
   "execution_count": null,
   "id": "36d037a7",
   "metadata": {},
   "outputs": [],
   "source": [
    "\n",
    "movies"
   ]
  },
  {
   "cell_type": "code",
   "execution_count": null,
   "id": "0d38fdf8",
   "metadata": {},
   "outputs": [],
   "source": []
  },
  {
   "cell_type": "code",
   "execution_count": null,
   "id": "7eeda921",
   "metadata": {},
   "outputs": [],
   "source": [
    "movies.info()"
   ]
  },
  {
   "cell_type": "code",
   "execution_count": null,
   "id": "c3f1256c",
   "metadata": {},
   "outputs": [],
   "source": [
    "movies['tags'] = movies['overview'] + movies['genres'] + movies['keywords'] + movies['cast'] + movies['crew']\n"
   ]
  },
  {
   "cell_type": "code",
   "execution_count": null,
   "id": "cf1e4e44",
   "metadata": {},
   "outputs": [],
   "source": [
    "new = movies.drop(columns=['overview','genres','keywords','cast','crew'])\n",
    "new[\"tags\"]=new[\"tags\"].str.lower()"
   ]
  },
  {
   "cell_type": "code",
   "execution_count": null,
   "id": "ad9981f3",
   "metadata": {},
   "outputs": [],
   "source": [
    "# new['tags'] = new['tags'].apply(lambda x: \" \".join(x))\n",
    "new[\"tags\"][0]"
   ]
  },
  {
   "cell_type": "code",
   "execution_count": null,
   "id": "eb551ed8",
   "metadata": {},
   "outputs": [],
   "source": [
    "from sklearn.feature_extraction.text import CountVectorizer\n",
    "cv = CountVectorizer(max_features=5000,stop_words='english')\n",
    "    "
   ]
  },
  {
   "cell_type": "code",
   "execution_count": null,
   "id": "1078a1c0",
   "metadata": {},
   "outputs": [],
   "source": [
    "vector = cv.fit_transform(new['tags']).toarray()"
   ]
  },
  {
   "cell_type": "code",
   "execution_count": null,
   "id": "94c5a618",
   "metadata": {},
   "outputs": [],
   "source": [
    "vector.shape"
   ]
  },
  {
   "cell_type": "code",
   "execution_count": null,
   "id": "0f133811",
   "metadata": {},
   "outputs": [],
   "source": [
    "from sklearn.metrics.pairwise import cosine_similarity"
   ]
  },
  {
   "cell_type": "code",
   "execution_count": null,
   "id": "4400a75d",
   "metadata": {},
   "outputs": [],
   "source": [
    "similarity = cosine_similarity(vector)"
   ]
  },
  {
   "cell_type": "code",
   "execution_count": null,
   "id": "7677c31f",
   "metadata": {},
   "outputs": [],
   "source": [
    "similarity"
   ]
  },
  {
   "cell_type": "code",
   "execution_count": null,
   "id": "70878f62",
   "metadata": {},
   "outputs": [],
   "source": [
    "new[new['title'] == 'The Lego Movie'].index[0]"
   ]
  },
  {
   "cell_type": "code",
   "execution_count": null,
   "id": "f36613b7",
   "metadata": {},
   "outputs": [],
   "source": [
    "def recommend(movie):\n",
    "    index = new[new['title'] == movie].index[0]\n",
    "    distances = sorted(list(enumerate(similarity[index])),reverse=True,key = lambda x: x[1])\n",
    "    for i in distances[1:6]:\n",
    "        print(new.iloc[i[0]].title)"
   ]
  },
  {
   "cell_type": "code",
   "execution_count": null,
   "id": "295630d4",
   "metadata": {},
   "outputs": [],
   "source": [
    "recommend('Avatar')\n"
   ]
  },
  {
   "cell_type": "code",
   "execution_count": null,
   "id": "ebe0b078",
   "metadata": {},
   "outputs": [],
   "source": []
  },
  {
   "cell_type": "code",
   "execution_count": null,
   "id": "50efdfb1",
   "metadata": {},
   "outputs": [],
   "source": [
    "new.columns"
   ]
  },
  {
   "cell_type": "code",
   "execution_count": null,
   "id": "296bae64",
   "metadata": {},
   "outputs": [],
   "source": []
  },
  {
   "cell_type": "code",
   "execution_count": null,
   "id": "c297a04e",
   "metadata": {},
   "outputs": [],
   "source": []
  },
  {
   "cell_type": "code",
   "execution_count": null,
   "id": "ff5f58b2",
   "metadata": {},
   "outputs": [],
   "source": [
    "mylist=[]\n",
    "for i in new[\"title\"]:\n",
    "    mylist.append(i)"
   ]
  },
  {
   "cell_type": "code",
   "execution_count": null,
   "id": "6f461f5d",
   "metadata": {},
   "outputs": [],
   "source": []
  },
  {
   "cell_type": "code",
   "execution_count": null,
   "id": "a4d013d4",
   "metadata": {},
   "outputs": [],
   "source": [
    "import tkinter \n",
    "from tkinter import *\n",
    "import pickle\n",
    "from tkinter import messagebox\n",
    "import numpy as np\n",
    "from tkinter import ttk"
   ]
  },
  {
   "cell_type": "code",
   "execution_count": null,
   "id": "d90061b5",
   "metadata": {},
   "outputs": [],
   "source": [
    "root=Tk()\n",
    "\n",
    "\n",
    "def recommend():\n",
    "    new_list=[]\n",
    "    movie=user_input1.get()\n",
    "    index = new[new['title'] == movie].index[0]\n",
    "    distances = sorted(list(enumerate(similarity[index])),reverse=True,key = lambda x: x[1])\n",
    "    for i in distances[1:6]:\n",
    "        new_list.append(new.iloc[i[0]])\n",
    "    messagebox.showinfo(\"Result\",f\" Your 1 Movie is {new_list[0].title} \\n Your 2 Movie is {new_list[1].title} \\n Your 3 Movie is {new_list[2].title} \\n Your 4 Movie is {new_list[3].title} \\n Your 5 Movie is {new_list[4].title}\")\n",
    "\n",
    "    \n",
    "    \n",
    "    \n",
    "    \n",
    "    \n",
    "\n",
    "\n",
    "\n",
    "\n",
    "\n",
    "\n",
    "root.title(\" GUI \")\n",
    "root.geometry(\"500x500\")\n",
    "root.resizable(0,0)\n",
    "\n",
    "tital=Label(root,text=\"MOVIES_RECOMMANDATION_SYSTEM\",fg=\"Black\",background=\"white\")\n",
    "tital.pack(ipady=10,pady=(5,0))\n",
    "tital.config(font=\"Verdana\")\n",
    "\n",
    "tital1=Label(root,text=\"Enter Movie\",background=\"white\")\n",
    "tital1.pack(ipady=5,pady=(15,0))\n",
    "tital1.config(font=\"Verdana\")\n",
    "\n",
    "user_input1=ttk.Combobox(root,value=mylist)\n",
    "user_input1.pack(ipady=3,pady=(5,0))\n",
    "\n",
    "\n",
    "\n",
    "\n",
    "login_but=Button(root,text=\"Get Prediction\",bg=\"white\",background=\"white\",command=recommend)\n",
    "login_but.pack(ipady=5,pady=(25,5))\n",
    "\n",
    "\n",
    "root.mainloop()"
   ]
  },
  {
   "cell_type": "code",
   "execution_count": null,
   "id": "ea7c5396",
   "metadata": {},
   "outputs": [],
   "source": []
  },
  {
   "cell_type": "code",
   "execution_count": null,
   "id": "45ac2b3a",
   "metadata": {},
   "outputs": [],
   "source": []
  }
 ],
 "metadata": {
  "kernelspec": {
   "display_name": "Python 3 (ipykernel)",
   "language": "python",
   "name": "python3"
  },
  "language_info": {
   "codemirror_mode": {
    "name": "ipython",
    "version": 3
   },
   "file_extension": ".py",
   "mimetype": "text/x-python",
   "name": "python",
   "nbconvert_exporter": "python",
   "pygments_lexer": "ipython3",
   "version": "3.10.9"
  }
 },
 "nbformat": 4,
 "nbformat_minor": 5
}
