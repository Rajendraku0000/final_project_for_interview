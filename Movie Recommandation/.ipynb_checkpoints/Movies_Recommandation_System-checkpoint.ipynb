{
 "cells": [
  {
   "cell_type": "code",
   "execution_count": 1,
   "id": "1a983c65",
   "metadata": {},
   "outputs": [],
   "source": [
    "import numpy as np\n",
    "import pandas as pd"
   ]
  },
  {
   "cell_type": "code",
   "execution_count": 2,
   "id": "cb9d5737",
   "metadata": {},
   "outputs": [],
   "source": [
    "movies=pd.read_csv(\"Movies_Data.csv\")"
   ]
  },
  {
   "cell_type": "code",
   "execution_count": 3,
   "id": "08eb20f3",
   "metadata": {},
   "outputs": [
    {
     "data": {
      "text/plain": [
       "movie_id    0\n",
       "title       0\n",
       "overview    0\n",
       "genres      0\n",
       "keywords    0\n",
       "cast        0\n",
       "crew        0\n",
       "dtype: int64"
      ]
     },
     "execution_count": 3,
     "metadata": {},
     "output_type": "execute_result"
    }
   ],
   "source": [
    "movies.isnull().sum()"
   ]
  },
  {
   "cell_type": "code",
   "execution_count": 4,
   "id": "36d037a7",
   "metadata": {},
   "outputs": [
    {
     "data": {
      "text/html": [
       "<div>\n",
       "<style scoped>\n",
       "    .dataframe tbody tr th:only-of-type {\n",
       "        vertical-align: middle;\n",
       "    }\n",
       "\n",
       "    .dataframe tbody tr th {\n",
       "        vertical-align: top;\n",
       "    }\n",
       "\n",
       "    .dataframe thead th {\n",
       "        text-align: right;\n",
       "    }\n",
       "</style>\n",
       "<table border=\"1\" class=\"dataframe\">\n",
       "  <thead>\n",
       "    <tr style=\"text-align: right;\">\n",
       "      <th></th>\n",
       "      <th>movie_id</th>\n",
       "      <th>title</th>\n",
       "      <th>overview</th>\n",
       "      <th>genres</th>\n",
       "      <th>keywords</th>\n",
       "      <th>cast</th>\n",
       "      <th>crew</th>\n",
       "    </tr>\n",
       "  </thead>\n",
       "  <tbody>\n",
       "    <tr>\n",
       "      <th>0</th>\n",
       "      <td>19995</td>\n",
       "      <td>Avatar</td>\n",
       "      <td>['In', 'the', '22nd', 'century,', 'a', 'parapl...</td>\n",
       "      <td>['Action', 'Adventure', 'Fantasy', 'ScienceFic...</td>\n",
       "      <td>['cultureclash', 'future', 'spacewar', 'spacec...</td>\n",
       "      <td>['SamWorthington', 'ZoeSaldana', 'SigourneyWea...</td>\n",
       "      <td>['JamesCameron']</td>\n",
       "    </tr>\n",
       "    <tr>\n",
       "      <th>1</th>\n",
       "      <td>285</td>\n",
       "      <td>Pirates of the Caribbean: At World's End</td>\n",
       "      <td>['Captain', 'Barbossa,', 'long', 'believed', '...</td>\n",
       "      <td>['Adventure', 'Fantasy', 'Action']</td>\n",
       "      <td>['ocean', 'drugabuse', 'exoticisland', 'eastin...</td>\n",
       "      <td>['JohnnyDepp', 'OrlandoBloom', 'KeiraKnightley']</td>\n",
       "      <td>['GoreVerbinski']</td>\n",
       "    </tr>\n",
       "    <tr>\n",
       "      <th>2</th>\n",
       "      <td>206647</td>\n",
       "      <td>Spectre</td>\n",
       "      <td>['A', 'cryptic', 'message', 'from', 'Bond’s', ...</td>\n",
       "      <td>['Action', 'Adventure', 'Crime']</td>\n",
       "      <td>['spy', 'basedonnovel', 'secretagent', 'sequel...</td>\n",
       "      <td>['DanielCraig', 'ChristophWaltz', 'LéaSeydoux']</td>\n",
       "      <td>['SamMendes']</td>\n",
       "    </tr>\n",
       "    <tr>\n",
       "      <th>3</th>\n",
       "      <td>49026</td>\n",
       "      <td>The Dark Knight Rises</td>\n",
       "      <td>['Following', 'the', 'death', 'of', 'District'...</td>\n",
       "      <td>['Action', 'Crime', 'Drama', 'Thriller']</td>\n",
       "      <td>['dccomics', 'crimefighter', 'terrorist', 'sec...</td>\n",
       "      <td>['ChristianBale', 'MichaelCaine', 'GaryOldman']</td>\n",
       "      <td>['ChristopherNolan']</td>\n",
       "    </tr>\n",
       "    <tr>\n",
       "      <th>4</th>\n",
       "      <td>49529</td>\n",
       "      <td>John Carter</td>\n",
       "      <td>['John', 'Carter', 'is', 'a', 'war-weary,', 'f...</td>\n",
       "      <td>['Action', 'Adventure', 'ScienceFiction']</td>\n",
       "      <td>['basedonnovel', 'mars', 'medallion', 'spacetr...</td>\n",
       "      <td>['TaylorKitsch', 'LynnCollins', 'SamanthaMorton']</td>\n",
       "      <td>['AndrewStanton']</td>\n",
       "    </tr>\n",
       "    <tr>\n",
       "      <th>...</th>\n",
       "      <td>...</td>\n",
       "      <td>...</td>\n",
       "      <td>...</td>\n",
       "      <td>...</td>\n",
       "      <td>...</td>\n",
       "      <td>...</td>\n",
       "      <td>...</td>\n",
       "    </tr>\n",
       "    <tr>\n",
       "      <th>4801</th>\n",
       "      <td>9367</td>\n",
       "      <td>El Mariachi</td>\n",
       "      <td>['El', 'Mariachi', 'just', 'wants', 'to', 'pla...</td>\n",
       "      <td>['Action', 'Crime', 'Thriller']</td>\n",
       "      <td>['unitedstates–mexicobarrier', 'legs', 'arms',...</td>\n",
       "      <td>['CarlosGallardo', 'JaimedeHoyos', 'PeterMarqu...</td>\n",
       "      <td>['RobertRodriguez']</td>\n",
       "    </tr>\n",
       "    <tr>\n",
       "      <th>4802</th>\n",
       "      <td>72766</td>\n",
       "      <td>Newlyweds</td>\n",
       "      <td>['A', 'newlywed', \"couple's\", 'honeymoon', 'is...</td>\n",
       "      <td>['Comedy', 'Romance']</td>\n",
       "      <td>[]</td>\n",
       "      <td>['EdwardBurns', 'KerryBishé', 'MarshaDietlein']</td>\n",
       "      <td>['EdwardBurns']</td>\n",
       "    </tr>\n",
       "    <tr>\n",
       "      <th>4803</th>\n",
       "      <td>231617</td>\n",
       "      <td>Signed, Sealed, Delivered</td>\n",
       "      <td>['\"Signed,', 'Sealed,', 'Delivered\"', 'introdu...</td>\n",
       "      <td>['Comedy', 'Drama', 'Romance', 'TVMovie']</td>\n",
       "      <td>['date', 'loveatfirstsight', 'narration', 'inv...</td>\n",
       "      <td>['EricMabius', 'KristinBooth', 'CrystalLowe']</td>\n",
       "      <td>['ScottSmith']</td>\n",
       "    </tr>\n",
       "    <tr>\n",
       "      <th>4804</th>\n",
       "      <td>126186</td>\n",
       "      <td>Shanghai Calling</td>\n",
       "      <td>['When', 'ambitious', 'New', 'York', 'attorney...</td>\n",
       "      <td>[]</td>\n",
       "      <td>[]</td>\n",
       "      <td>['DanielHenney', 'ElizaCoupe', 'BillPaxton']</td>\n",
       "      <td>['DanielHsia']</td>\n",
       "    </tr>\n",
       "    <tr>\n",
       "      <th>4805</th>\n",
       "      <td>25975</td>\n",
       "      <td>My Date with Drew</td>\n",
       "      <td>['Ever', 'since', 'the', 'second', 'grade', 'w...</td>\n",
       "      <td>['Documentary']</td>\n",
       "      <td>['obsession', 'camcorder', 'crush', 'dreamgirl']</td>\n",
       "      <td>['DrewBarrymore', 'BrianHerzlinger', 'CoreyFel...</td>\n",
       "      <td>['BrianHerzlinger', 'JonGunn', 'BrettWinn']</td>\n",
       "    </tr>\n",
       "  </tbody>\n",
       "</table>\n",
       "<p>4806 rows × 7 columns</p>\n",
       "</div>"
      ],
      "text/plain": [
       "      movie_id                                     title  \\\n",
       "0        19995                                    Avatar   \n",
       "1          285  Pirates of the Caribbean: At World's End   \n",
       "2       206647                                   Spectre   \n",
       "3        49026                     The Dark Knight Rises   \n",
       "4        49529                               John Carter   \n",
       "...        ...                                       ...   \n",
       "4801      9367                               El Mariachi   \n",
       "4802     72766                                 Newlyweds   \n",
       "4803    231617                 Signed, Sealed, Delivered   \n",
       "4804    126186                          Shanghai Calling   \n",
       "4805     25975                         My Date with Drew   \n",
       "\n",
       "                                               overview  \\\n",
       "0     ['In', 'the', '22nd', 'century,', 'a', 'parapl...   \n",
       "1     ['Captain', 'Barbossa,', 'long', 'believed', '...   \n",
       "2     ['A', 'cryptic', 'message', 'from', 'Bond’s', ...   \n",
       "3     ['Following', 'the', 'death', 'of', 'District'...   \n",
       "4     ['John', 'Carter', 'is', 'a', 'war-weary,', 'f...   \n",
       "...                                                 ...   \n",
       "4801  ['El', 'Mariachi', 'just', 'wants', 'to', 'pla...   \n",
       "4802  ['A', 'newlywed', \"couple's\", 'honeymoon', 'is...   \n",
       "4803  ['\"Signed,', 'Sealed,', 'Delivered\"', 'introdu...   \n",
       "4804  ['When', 'ambitious', 'New', 'York', 'attorney...   \n",
       "4805  ['Ever', 'since', 'the', 'second', 'grade', 'w...   \n",
       "\n",
       "                                                 genres  \\\n",
       "0     ['Action', 'Adventure', 'Fantasy', 'ScienceFic...   \n",
       "1                    ['Adventure', 'Fantasy', 'Action']   \n",
       "2                      ['Action', 'Adventure', 'Crime']   \n",
       "3              ['Action', 'Crime', 'Drama', 'Thriller']   \n",
       "4             ['Action', 'Adventure', 'ScienceFiction']   \n",
       "...                                                 ...   \n",
       "4801                    ['Action', 'Crime', 'Thriller']   \n",
       "4802                              ['Comedy', 'Romance']   \n",
       "4803          ['Comedy', 'Drama', 'Romance', 'TVMovie']   \n",
       "4804                                                 []   \n",
       "4805                                    ['Documentary']   \n",
       "\n",
       "                                               keywords  \\\n",
       "0     ['cultureclash', 'future', 'spacewar', 'spacec...   \n",
       "1     ['ocean', 'drugabuse', 'exoticisland', 'eastin...   \n",
       "2     ['spy', 'basedonnovel', 'secretagent', 'sequel...   \n",
       "3     ['dccomics', 'crimefighter', 'terrorist', 'sec...   \n",
       "4     ['basedonnovel', 'mars', 'medallion', 'spacetr...   \n",
       "...                                                 ...   \n",
       "4801  ['unitedstates–mexicobarrier', 'legs', 'arms',...   \n",
       "4802                                                 []   \n",
       "4803  ['date', 'loveatfirstsight', 'narration', 'inv...   \n",
       "4804                                                 []   \n",
       "4805   ['obsession', 'camcorder', 'crush', 'dreamgirl']   \n",
       "\n",
       "                                                   cast  \\\n",
       "0     ['SamWorthington', 'ZoeSaldana', 'SigourneyWea...   \n",
       "1      ['JohnnyDepp', 'OrlandoBloom', 'KeiraKnightley']   \n",
       "2       ['DanielCraig', 'ChristophWaltz', 'LéaSeydoux']   \n",
       "3       ['ChristianBale', 'MichaelCaine', 'GaryOldman']   \n",
       "4     ['TaylorKitsch', 'LynnCollins', 'SamanthaMorton']   \n",
       "...                                                 ...   \n",
       "4801  ['CarlosGallardo', 'JaimedeHoyos', 'PeterMarqu...   \n",
       "4802    ['EdwardBurns', 'KerryBishé', 'MarshaDietlein']   \n",
       "4803      ['EricMabius', 'KristinBooth', 'CrystalLowe']   \n",
       "4804       ['DanielHenney', 'ElizaCoupe', 'BillPaxton']   \n",
       "4805  ['DrewBarrymore', 'BrianHerzlinger', 'CoreyFel...   \n",
       "\n",
       "                                             crew  \n",
       "0                                ['JamesCameron']  \n",
       "1                               ['GoreVerbinski']  \n",
       "2                                   ['SamMendes']  \n",
       "3                            ['ChristopherNolan']  \n",
       "4                               ['AndrewStanton']  \n",
       "...                                           ...  \n",
       "4801                          ['RobertRodriguez']  \n",
       "4802                              ['EdwardBurns']  \n",
       "4803                               ['ScottSmith']  \n",
       "4804                               ['DanielHsia']  \n",
       "4805  ['BrianHerzlinger', 'JonGunn', 'BrettWinn']  \n",
       "\n",
       "[4806 rows x 7 columns]"
      ]
     },
     "execution_count": 4,
     "metadata": {},
     "output_type": "execute_result"
    }
   ],
   "source": [
    "\n",
    "movies"
   ]
  },
  {
   "cell_type": "code",
   "execution_count": null,
   "id": "0d38fdf8",
   "metadata": {},
   "outputs": [],
   "source": []
  },
  {
   "cell_type": "code",
   "execution_count": 5,
   "id": "7eeda921",
   "metadata": {},
   "outputs": [
    {
     "name": "stdout",
     "output_type": "stream",
     "text": [
      "<class 'pandas.core.frame.DataFrame'>\n",
      "RangeIndex: 4806 entries, 0 to 4805\n",
      "Data columns (total 7 columns):\n",
      " #   Column    Non-Null Count  Dtype \n",
      "---  ------    --------------  ----- \n",
      " 0   movie_id  4806 non-null   int64 \n",
      " 1   title     4806 non-null   object\n",
      " 2   overview  4806 non-null   object\n",
      " 3   genres    4806 non-null   object\n",
      " 4   keywords  4806 non-null   object\n",
      " 5   cast      4806 non-null   object\n",
      " 6   crew      4806 non-null   object\n",
      "dtypes: int64(1), object(6)\n",
      "memory usage: 263.0+ KB\n"
     ]
    }
   ],
   "source": [
    "movies.info()"
   ]
  },
  {
   "cell_type": "code",
   "execution_count": 6,
   "id": "c3f1256c",
   "metadata": {},
   "outputs": [],
   "source": [
    "movies['tags'] = movies['overview'] + movies['genres'] + movies['keywords'] + movies['cast'] + movies['crew']\n"
   ]
  },
  {
   "cell_type": "code",
   "execution_count": 7,
   "id": "cf1e4e44",
   "metadata": {},
   "outputs": [],
   "source": [
    "new = movies.drop(columns=['overview','genres','keywords','cast','crew'])\n",
    "new[\"tags\"]=new[\"tags\"].str.lower()"
   ]
  },
  {
   "cell_type": "code",
   "execution_count": 8,
   "id": "ad9981f3",
   "metadata": {},
   "outputs": [
    {
     "data": {
      "text/plain": [
       "\"['in', 'the', '22nd', 'century,', 'a', 'paraplegic', 'marine', 'is', 'dispatched', 'to', 'the', 'moon', 'pandora', 'on', 'a', 'unique', 'mission,', 'but', 'becomes', 'torn', 'between', 'following', 'orders', 'and', 'protecting', 'an', 'alien', 'civilization.']['action', 'adventure', 'fantasy', 'sciencefiction']['cultureclash', 'future', 'spacewar', 'spacecolony', 'society', 'spacetravel', 'futuristic', 'romance', 'space', 'alien', 'tribe', 'alienplanet', 'cgi', 'marine', 'soldier', 'battle', 'loveaffair', 'antiwar', 'powerrelations', 'mindandsoul', '3d']['samworthington', 'zoesaldana', 'sigourneyweaver']['jamescameron']\""
      ]
     },
     "execution_count": 8,
     "metadata": {},
     "output_type": "execute_result"
    }
   ],
   "source": [
    "# new['tags'] = new['tags'].apply(lambda x: \" \".join(x))\n",
    "new[\"tags\"][0]"
   ]
  },
  {
   "cell_type": "code",
   "execution_count": 9,
   "id": "eb551ed8",
   "metadata": {},
   "outputs": [],
   "source": [
    "from sklearn.feature_extraction.text import CountVectorizer\n",
    "cv = CountVectorizer(max_features=5000,stop_words='english')\n",
    "    "
   ]
  },
  {
   "cell_type": "code",
   "execution_count": 10,
   "id": "1078a1c0",
   "metadata": {},
   "outputs": [],
   "source": [
    "vector = cv.fit_transform(new['tags']).toarray()"
   ]
  },
  {
   "cell_type": "code",
   "execution_count": 11,
   "id": "94c5a618",
   "metadata": {},
   "outputs": [
    {
     "data": {
      "text/plain": [
       "(4806, 5000)"
      ]
     },
     "execution_count": 11,
     "metadata": {},
     "output_type": "execute_result"
    }
   ],
   "source": [
    "vector.shape"
   ]
  },
  {
   "cell_type": "code",
   "execution_count": 12,
   "id": "0f133811",
   "metadata": {},
   "outputs": [],
   "source": [
    "from sklearn.metrics.pairwise import cosine_similarity"
   ]
  },
  {
   "cell_type": "code",
   "execution_count": 13,
   "id": "4400a75d",
   "metadata": {},
   "outputs": [
    {
     "name": "stderr",
     "output_type": "stream",
     "text": [
      "C:\\Users\\rajen\\anaconda3\\lib\\site-packages\\sklearn\\utils\\extmath.py:189: RuntimeWarning: invalid value encountered in matmul\n",
      "  ret = a @ b\n"
     ]
    }
   ],
   "source": [
    "similarity = cosine_similarity(vector)"
   ]
  },
  {
   "cell_type": "code",
   "execution_count": 14,
   "id": "7677c31f",
   "metadata": {},
   "outputs": [
    {
     "data": {
      "text/plain": [
       "array([[1.        , 0.09107651, 0.06071767, ..., 0.02519763, 0.02639818,\n",
       "        0.        ],\n",
       "       [0.09107651, 1.        , 0.06451613, ..., 0.02677398, 0.        ,\n",
       "        0.        ],\n",
       "       [0.06071767, 0.06451613, 1.        , ..., 0.02677398, 0.        ,\n",
       "        0.        ],\n",
       "       ...,\n",
       "       [0.02519763, 0.02677398, 0.02677398, ..., 1.        , 0.06984303,\n",
       "        0.04774099],\n",
       "       [0.02639818, 0.        , 0.        , ..., 0.06984303, 1.        ,\n",
       "        0.05001563],\n",
       "       [0.        , 0.        , 0.        , ..., 0.04774099, 0.05001563,\n",
       "        1.        ]])"
      ]
     },
     "execution_count": 14,
     "metadata": {},
     "output_type": "execute_result"
    }
   ],
   "source": [
    "similarity"
   ]
  },
  {
   "cell_type": "code",
   "execution_count": 15,
   "id": "70878f62",
   "metadata": {},
   "outputs": [
    {
     "data": {
      "text/plain": [
       "744"
      ]
     },
     "execution_count": 15,
     "metadata": {},
     "output_type": "execute_result"
    }
   ],
   "source": [
    "new[new['title'] == 'The Lego Movie'].index[0]"
   ]
  },
  {
   "cell_type": "code",
   "execution_count": 16,
   "id": "f36613b7",
   "metadata": {},
   "outputs": [],
   "source": [
    "def recommend(movie):\n",
    "    index = new[new['title'] == movie].index[0]\n",
    "    distances = sorted(list(enumerate(similarity[index])),reverse=True,key = lambda x: x[1])\n",
    "    for i in distances[1:6]:\n",
    "        print(new.iloc[i[0]].title)"
   ]
  },
  {
   "cell_type": "code",
   "execution_count": 17,
   "id": "295630d4",
   "metadata": {},
   "outputs": [
    {
     "name": "stdout",
     "output_type": "stream",
     "text": [
      "Titan A.E.\n",
      "Small Soldiers\n",
      "Independence Day\n",
      "Aliens vs Predator: Requiem\n",
      "Ender's Game\n"
     ]
    }
   ],
   "source": [
    "recommend('Avatar')\n"
   ]
  },
  {
   "cell_type": "code",
   "execution_count": null,
   "id": "ebe0b078",
   "metadata": {},
   "outputs": [],
   "source": []
  },
  {
   "cell_type": "code",
   "execution_count": 30,
   "id": "50efdfb1",
   "metadata": {},
   "outputs": [
    {
     "data": {
      "text/plain": [
       "Index(['movie_id', 'title', 'tags'], dtype='object')"
      ]
     },
     "execution_count": 30,
     "metadata": {},
     "output_type": "execute_result"
    }
   ],
   "source": [
    "new.columns"
   ]
  },
  {
   "cell_type": "code",
   "execution_count": null,
   "id": "296bae64",
   "metadata": {},
   "outputs": [],
   "source": []
  },
  {
   "cell_type": "code",
   "execution_count": null,
   "id": "c297a04e",
   "metadata": {},
   "outputs": [],
   "source": []
  },
  {
   "cell_type": "code",
   "execution_count": 18,
   "id": "ff5f58b2",
   "metadata": {},
   "outputs": [],
   "source": [
    "mylist=[]\n",
    "for i in new[\"title\"]:\n",
    "    mylist.append(i)"
   ]
  },
  {
   "cell_type": "code",
   "execution_count": null,
   "id": "6f461f5d",
   "metadata": {},
   "outputs": [],
   "source": []
  },
  {
   "cell_type": "code",
   "execution_count": 19,
   "id": "a4d013d4",
   "metadata": {},
   "outputs": [],
   "source": [
    "import tkinter \n",
    "from tkinter import *\n",
    "import pickle\n",
    "from tkinter import messagebox\n",
    "import numpy as np\n",
    "from tkinter import ttk"
   ]
  },
  {
   "cell_type": "code",
   "execution_count": 32,
   "id": "d90061b5",
   "metadata": {},
   "outputs": [],
   "source": [
    "root=Tk()\n",
    "\n",
    "\n",
    "def recommend():\n",
    "    new_list=[]\n",
    "    movie=user_input1.get()\n",
    "    index = new[new['title'] == movie].index[0]\n",
    "    distances = sorted(list(enumerate(similarity[index])),reverse=True,key = lambda x: x[1])\n",
    "    for i in distances[1:6]:\n",
    "        new_list.append(new.iloc[i[0]])\n",
    "    messagebox.showinfo(\"Result\",f\" Your 1 Movie is {new_list[0].title} \\n Your 2 Movie is {new_list[1].title} \\n Your 3 Movie is {new_list[2].title} \\n Your 4 Movie is {new_list[3].title} \\n Your 5 Movie is {new_list[4].title}\")\n",
    "\n",
    "    \n",
    "    \n",
    "    \n",
    "    \n",
    "    \n",
    "\n",
    "\n",
    "\n",
    "\n",
    "\n",
    "\n",
    "root.title(\" GUI \")\n",
    "root.geometry(\"500x500\")\n",
    "root.resizable(0,0)\n",
    "\n",
    "tital=Label(root,text=\"MOVIES_RECOMMANDATION_SYSTEM\",fg=\"Black\",background=\"white\")\n",
    "tital.pack(ipady=10,pady=(5,0))\n",
    "tital.config(font=\"Verdana\")\n",
    "\n",
    "tital1=Label(root,text=\"Enter Movie\",background=\"white\")\n",
    "tital1.pack(ipady=5,pady=(15,0))\n",
    "tital1.config(font=\"Verdana\")\n",
    "\n",
    "user_input1=ttk.Combobox(root,value=mylist)\n",
    "user_input1.pack(ipady=3,pady=(5,0))\n",
    "\n",
    "\n",
    "\n",
    "\n",
    "login_but=Button(root,text=\"Get Prediction\",bg=\"white\",background=\"white\",command=recommend)\n",
    "login_but.pack(ipady=5,pady=(25,5))\n",
    "\n",
    "\n",
    "root.mainloop()"
   ]
  },
  {
   "cell_type": "code",
   "execution_count": null,
   "id": "ea7c5396",
   "metadata": {},
   "outputs": [],
   "source": []
  },
  {
   "cell_type": "code",
   "execution_count": null,
   "id": "45ac2b3a",
   "metadata": {},
   "outputs": [],
   "source": []
  }
 ],
 "metadata": {
  "kernelspec": {
   "display_name": "Python 3 (ipykernel)",
   "language": "python",
   "name": "python3"
  },
  "language_info": {
   "codemirror_mode": {
    "name": "ipython",
    "version": 3
   },
   "file_extension": ".py",
   "mimetype": "text/x-python",
   "name": "python",
   "nbconvert_exporter": "python",
   "pygments_lexer": "ipython3",
   "version": "3.10.9"
  }
 },
 "nbformat": 4,
 "nbformat_minor": 5
}
