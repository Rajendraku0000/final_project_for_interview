{
 "cells": [
  {
   "cell_type": "code",
   "execution_count": 1,
   "metadata": {
    "id": "FqICyaQoVTjv"
   },
   "outputs": [],
   "source": [
    "import numpy as np\n",
    "import pandas as pd"
   ]
  },
  {
   "cell_type": "code",
   "execution_count": 4,
   "metadata": {
    "colab": {
     "base_uri": "https://localhost:8080/",
     "height": 73
    },
    "id": "xB6DT24XVUc8",
    "outputId": "92885a23-48bc-4015-f140-eea3e4bdd2be"
   },
   "outputs": [],
   "source": [
    "# from google.colab import files\n",
    "# path=list(files.upload().keys())[0]\n",
    "path=\"C:\\\\Users\\\\rajen\\\\OneDrive\\\\Desktop\\\\Data\\\\jobs.csv\""
   ]
  },
  {
   "cell_type": "code",
   "execution_count": 5,
   "metadata": {
    "id": "nlL-m5ISVV1z"
   },
   "outputs": [],
   "source": [
    "df=pd.read_csv(path)"
   ]
  },
  {
   "cell_type": "code",
   "execution_count": 6,
   "metadata": {
    "colab": {
     "base_uri": "https://localhost:8080/",
     "height": 441
    },
    "id": "QVrkMd5nVthi",
    "outputId": "4cf9eeb1-a4ba-4853-8c06-3f9efab43e31"
   },
   "outputs": [
    {
     "name": "stdout",
     "output_type": "stream",
     "text": [
      "(5000, 3)\n"
     ]
    },
    {
     "data": {
      "text/html": [
       "<div>\n",
       "<style scoped>\n",
       "    .dataframe tbody tr th:only-of-type {\n",
       "        vertical-align: middle;\n",
       "    }\n",
       "\n",
       "    .dataframe tbody tr th {\n",
       "        vertical-align: top;\n",
       "    }\n",
       "\n",
       "    .dataframe thead th {\n",
       "        text-align: right;\n",
       "    }\n",
       "</style>\n",
       "<table border=\"1\" class=\"dataframe\">\n",
       "  <thead>\n",
       "    <tr style=\"text-align: right;\">\n",
       "      <th></th>\n",
       "      <th>Company Name</th>\n",
       "      <th>Location</th>\n",
       "      <th>Job Title</th>\n",
       "    </tr>\n",
       "  </thead>\n",
       "  <tbody>\n",
       "    <tr>\n",
       "      <th>0</th>\n",
       "      <td>Melbourne Water</td>\n",
       "      <td>Melbourne, Australia</td>\n",
       "      <td>Manual Technical Writer - Eastern Tertiary All...</td>\n",
       "    </tr>\n",
       "    <tr>\n",
       "      <th>1</th>\n",
       "      <td>VP Health Systems</td>\n",
       "      <td>Sydney Area, Australia</td>\n",
       "      <td>Director Of Program Services</td>\n",
       "    </tr>\n",
       "    <tr>\n",
       "      <th>2</th>\n",
       "      <td>Modis Australia (formerly Ajilon)</td>\n",
       "      <td>Spit Junction, New South Wales, Australia</td>\n",
       "      <td>Solutions Architect</td>\n",
       "    </tr>\n",
       "    <tr>\n",
       "      <th>3</th>\n",
       "      <td>Australian Department of Health</td>\n",
       "      <td>Noosa Heads, Queensland, Australia</td>\n",
       "      <td>Assistant Director - International Strategies ...</td>\n",
       "    </tr>\n",
       "    <tr>\n",
       "      <th>4</th>\n",
       "      <td>Skiva</td>\n",
       "      <td>Sydney, New South Wales, Australia</td>\n",
       "      <td>Test Analyst</td>\n",
       "    </tr>\n",
       "    <tr>\n",
       "      <th>...</th>\n",
       "      <td>...</td>\n",
       "      <td>...</td>\n",
       "      <td>...</td>\n",
       "    </tr>\n",
       "    <tr>\n",
       "      <th>4995</th>\n",
       "      <td>University of Victoria</td>\n",
       "      <td>Sydney Area, Australia</td>\n",
       "      <td>Postdoctoral Fellow</td>\n",
       "    </tr>\n",
       "    <tr>\n",
       "      <th>4996</th>\n",
       "      <td>Gloria Jean's Coffees</td>\n",
       "      <td>Newcastle Area, Australia</td>\n",
       "      <td>Barista</td>\n",
       "    </tr>\n",
       "    <tr>\n",
       "      <th>4997</th>\n",
       "      <td>BNI Sydney Central &amp; South</td>\n",
       "      <td>Sydney Area, Australia</td>\n",
       "      <td>Executive Director</td>\n",
       "    </tr>\n",
       "    <tr>\n",
       "      <th>4998</th>\n",
       "      <td>Department of Sustainability and Environment</td>\n",
       "      <td>Melbourne Area, Australia</td>\n",
       "      <td>Online Communications Adviser</td>\n",
       "    </tr>\n",
       "    <tr>\n",
       "      <th>4999</th>\n",
       "      <td>University of Technology Sydney</td>\n",
       "      <td>Sydney Area, Australia</td>\n",
       "      <td>Visiting Professional Fellow</td>\n",
       "    </tr>\n",
       "  </tbody>\n",
       "</table>\n",
       "<p>5000 rows × 3 columns</p>\n",
       "</div>"
      ],
      "text/plain": [
       "                                      Company Name  \\\n",
       "0                                  Melbourne Water   \n",
       "1                                VP Health Systems   \n",
       "2                Modis Australia (formerly Ajilon)   \n",
       "3                  Australian Department of Health   \n",
       "4                                            Skiva   \n",
       "...                                            ...   \n",
       "4995                        University of Victoria   \n",
       "4996                         Gloria Jean's Coffees   \n",
       "4997                    BNI Sydney Central & South   \n",
       "4998  Department of Sustainability and Environment   \n",
       "4999               University of Technology Sydney   \n",
       "\n",
       "                                       Location  \\\n",
       "0                          Melbourne, Australia   \n",
       "1                        Sydney Area, Australia   \n",
       "2     Spit Junction, New South Wales, Australia   \n",
       "3            Noosa Heads, Queensland, Australia   \n",
       "4            Sydney, New South Wales, Australia   \n",
       "...                                         ...   \n",
       "4995                     Sydney Area, Australia   \n",
       "4996                  Newcastle Area, Australia   \n",
       "4997                     Sydney Area, Australia   \n",
       "4998                  Melbourne Area, Australia   \n",
       "4999                     Sydney Area, Australia   \n",
       "\n",
       "                                              Job Title  \n",
       "0     Manual Technical Writer - Eastern Tertiary All...  \n",
       "1                          Director Of Program Services  \n",
       "2                                   Solutions Architect  \n",
       "3     Assistant Director - International Strategies ...  \n",
       "4                                          Test Analyst  \n",
       "...                                                 ...  \n",
       "4995                                Postdoctoral Fellow  \n",
       "4996                                            Barista  \n",
       "4997                                 Executive Director  \n",
       "4998                      Online Communications Adviser  \n",
       "4999                       Visiting Professional Fellow  \n",
       "\n",
       "[5000 rows x 3 columns]"
      ]
     },
     "execution_count": 6,
     "metadata": {},
     "output_type": "execute_result"
    }
   ],
   "source": [
    "df=df.sample(5000,ignore_index=True)\n",
    "print(df.shape)\n",
    "df"
   ]
  },
  {
   "cell_type": "code",
   "execution_count": 7,
   "metadata": {
    "id": "GVCYCGg-VvTM"
   },
   "outputs": [],
   "source": [
    "import string"
   ]
  },
  {
   "cell_type": "code",
   "execution_count": 8,
   "metadata": {
    "colab": {
     "base_uri": "https://localhost:8080/",
     "height": 36
    },
    "id": "VNWuaUPCV_05",
    "outputId": "cd8cec0b-1ba8-4a74-dfa0-767ffde1356f"
   },
   "outputs": [
    {
     "data": {
      "text/plain": [
       "'!\"#$%&\\'()*+,-./:;<=>?@[\\\\]^_`{|}~'"
      ]
     },
     "execution_count": 8,
     "metadata": {},
     "output_type": "execute_result"
    }
   ],
   "source": [
    "panch=string.punctuation\n",
    "panch"
   ]
  },
  {
   "cell_type": "code",
   "execution_count": 11,
   "metadata": {
    "id": "MzXzGa2LWq2-"
   },
   "outputs": [],
   "source": [
    "def remove_panch(text):\n",
    "    mylist=[]\n",
    "    for i in text.split():\n",
    "        if i not in panch:\n",
    "            \n",
    "            mylist.append(i)\n",
    "    return \" \".join(mylist)\n"
   ]
  },
  {
   "cell_type": "code",
   "execution_count": 12,
   "metadata": {
    "id": "sXx3fRQpWHCV"
   },
   "outputs": [],
   "source": [
    "df[\"Job Title\"]=df[\"Job Title\"].apply(remove_panch)"
   ]
  },
  {
   "cell_type": "code",
   "execution_count": 13,
   "metadata": {
    "colab": {
     "base_uri": "https://localhost:8080/",
     "height": 423
    },
    "id": "2tVed-n9XDAe",
    "outputId": "6c56be21-ba3a-4402-cfd5-5ec2842dbf6e"
   },
   "outputs": [
    {
     "data": {
      "text/html": [
       "<div>\n",
       "<style scoped>\n",
       "    .dataframe tbody tr th:only-of-type {\n",
       "        vertical-align: middle;\n",
       "    }\n",
       "\n",
       "    .dataframe tbody tr th {\n",
       "        vertical-align: top;\n",
       "    }\n",
       "\n",
       "    .dataframe thead th {\n",
       "        text-align: right;\n",
       "    }\n",
       "</style>\n",
       "<table border=\"1\" class=\"dataframe\">\n",
       "  <thead>\n",
       "    <tr style=\"text-align: right;\">\n",
       "      <th></th>\n",
       "      <th>Company Name</th>\n",
       "      <th>Location</th>\n",
       "      <th>Job Title</th>\n",
       "    </tr>\n",
       "  </thead>\n",
       "  <tbody>\n",
       "    <tr>\n",
       "      <th>0</th>\n",
       "      <td>Melbourne Water</td>\n",
       "      <td>Melbourne, Australia</td>\n",
       "      <td>Manual Technical Writer Eastern Tertiary Alliance</td>\n",
       "    </tr>\n",
       "    <tr>\n",
       "      <th>1</th>\n",
       "      <td>VP Health Systems</td>\n",
       "      <td>Sydney Area, Australia</td>\n",
       "      <td>Director Of Program Services</td>\n",
       "    </tr>\n",
       "    <tr>\n",
       "      <th>2</th>\n",
       "      <td>Modis Australia (formerly Ajilon)</td>\n",
       "      <td>Spit Junction, New South Wales, Australia</td>\n",
       "      <td>Solutions Architect</td>\n",
       "    </tr>\n",
       "    <tr>\n",
       "      <th>3</th>\n",
       "      <td>Australian Department of Health</td>\n",
       "      <td>Noosa Heads, Queensland, Australia</td>\n",
       "      <td>Assistant Director International Strategies Br...</td>\n",
       "    </tr>\n",
       "    <tr>\n",
       "      <th>4</th>\n",
       "      <td>Skiva</td>\n",
       "      <td>Sydney, New South Wales, Australia</td>\n",
       "      <td>Test Analyst</td>\n",
       "    </tr>\n",
       "    <tr>\n",
       "      <th>...</th>\n",
       "      <td>...</td>\n",
       "      <td>...</td>\n",
       "      <td>...</td>\n",
       "    </tr>\n",
       "    <tr>\n",
       "      <th>4995</th>\n",
       "      <td>University of Victoria</td>\n",
       "      <td>Sydney Area, Australia</td>\n",
       "      <td>Postdoctoral Fellow</td>\n",
       "    </tr>\n",
       "    <tr>\n",
       "      <th>4996</th>\n",
       "      <td>Gloria Jean's Coffees</td>\n",
       "      <td>Newcastle Area, Australia</td>\n",
       "      <td>Barista</td>\n",
       "    </tr>\n",
       "    <tr>\n",
       "      <th>4997</th>\n",
       "      <td>BNI Sydney Central South</td>\n",
       "      <td>Sydney Area, Australia</td>\n",
       "      <td>Executive Director</td>\n",
       "    </tr>\n",
       "    <tr>\n",
       "      <th>4998</th>\n",
       "      <td>Department of Sustainability and Environment</td>\n",
       "      <td>Melbourne Area, Australia</td>\n",
       "      <td>Online Communications Adviser</td>\n",
       "    </tr>\n",
       "    <tr>\n",
       "      <th>4999</th>\n",
       "      <td>University of Technology Sydney</td>\n",
       "      <td>Sydney Area, Australia</td>\n",
       "      <td>Visiting Professional Fellow</td>\n",
       "    </tr>\n",
       "  </tbody>\n",
       "</table>\n",
       "<p>5000 rows × 3 columns</p>\n",
       "</div>"
      ],
      "text/plain": [
       "                                      Company Name  \\\n",
       "0                                  Melbourne Water   \n",
       "1                                VP Health Systems   \n",
       "2                Modis Australia (formerly Ajilon)   \n",
       "3                  Australian Department of Health   \n",
       "4                                            Skiva   \n",
       "...                                            ...   \n",
       "4995                        University of Victoria   \n",
       "4996                         Gloria Jean's Coffees   \n",
       "4997                      BNI Sydney Central South   \n",
       "4998  Department of Sustainability and Environment   \n",
       "4999               University of Technology Sydney   \n",
       "\n",
       "                                       Location  \\\n",
       "0                          Melbourne, Australia   \n",
       "1                        Sydney Area, Australia   \n",
       "2     Spit Junction, New South Wales, Australia   \n",
       "3            Noosa Heads, Queensland, Australia   \n",
       "4            Sydney, New South Wales, Australia   \n",
       "...                                         ...   \n",
       "4995                     Sydney Area, Australia   \n",
       "4996                  Newcastle Area, Australia   \n",
       "4997                     Sydney Area, Australia   \n",
       "4998                  Melbourne Area, Australia   \n",
       "4999                     Sydney Area, Australia   \n",
       "\n",
       "                                              Job Title  \n",
       "0     Manual Technical Writer Eastern Tertiary Alliance  \n",
       "1                          Director Of Program Services  \n",
       "2                                   Solutions Architect  \n",
       "3     Assistant Director International Strategies Br...  \n",
       "4                                          Test Analyst  \n",
       "...                                                 ...  \n",
       "4995                                Postdoctoral Fellow  \n",
       "4996                                            Barista  \n",
       "4997                                 Executive Director  \n",
       "4998                      Online Communications Adviser  \n",
       "4999                       Visiting Professional Fellow  \n",
       "\n",
       "[5000 rows x 3 columns]"
      ]
     },
     "execution_count": 13,
     "metadata": {},
     "output_type": "execute_result"
    }
   ],
   "source": [
    "df[\"Location\"]=df[\"Location\"].apply(remove_panch)\n",
    "df[\"Company Name\"]=df[\"Company Name\"].astype(str)\n",
    "\n",
    "df[\"Company Name\"]=df[\"Company Name\"].apply(remove_panch)\n",
    "df"
   ]
  },
  {
   "cell_type": "code",
   "execution_count": 14,
   "metadata": {
    "colab": {
     "base_uri": "https://localhost:8080/"
    },
    "id": "YVPMZas2XUR9",
    "outputId": "c33c8831-fe44-4441-b07c-01e410bf5700"
   },
   "outputs": [
    {
     "name": "stdout",
     "output_type": "stream",
     "text": [
      "<class 'pandas.core.frame.DataFrame'>\n",
      "RangeIndex: 5000 entries, 0 to 4999\n",
      "Data columns (total 3 columns):\n",
      " #   Column        Non-Null Count  Dtype \n",
      "---  ------        --------------  ----- \n",
      " 0   Company Name  5000 non-null   object\n",
      " 1   Location      5000 non-null   object\n",
      " 2   Job Title     5000 non-null   object\n",
      "dtypes: object(3)\n",
      "memory usage: 117.3+ KB\n"
     ]
    }
   ],
   "source": [
    "df.info()"
   ]
  },
  {
   "cell_type": "code",
   "execution_count": 15,
   "metadata": {
    "colab": {
     "base_uri": "https://localhost:8080/"
    },
    "id": "jaz2HtFCXwYf",
    "outputId": "a51b6200-90ed-4bbb-d0a7-eaf18fd48833"
   },
   "outputs": [
    {
     "data": {
      "text/plain": [
       "Company Name    0\n",
       "Location        0\n",
       "Job Title       0\n",
       "dtype: int64"
      ]
     },
     "execution_count": 15,
     "metadata": {},
     "output_type": "execute_result"
    }
   ],
   "source": [
    "df.isnull().sum()"
   ]
  },
  {
   "cell_type": "code",
   "execution_count": 16,
   "metadata": {
    "colab": {
     "base_uri": "https://localhost:8080/",
     "height": 206
    },
    "id": "-9pDI25sXza1",
    "outputId": "cc9cf140-defd-4983-a6ff-80b02d0d7aa1"
   },
   "outputs": [
    {
     "data": {
      "text/html": [
       "<div>\n",
       "<style scoped>\n",
       "    .dataframe tbody tr th:only-of-type {\n",
       "        vertical-align: middle;\n",
       "    }\n",
       "\n",
       "    .dataframe tbody tr th {\n",
       "        vertical-align: top;\n",
       "    }\n",
       "\n",
       "    .dataframe thead th {\n",
       "        text-align: right;\n",
       "    }\n",
       "</style>\n",
       "<table border=\"1\" class=\"dataframe\">\n",
       "  <thead>\n",
       "    <tr style=\"text-align: right;\">\n",
       "      <th></th>\n",
       "      <th>Company Name</th>\n",
       "      <th>Location</th>\n",
       "      <th>Job Title</th>\n",
       "    </tr>\n",
       "  </thead>\n",
       "  <tbody>\n",
       "    <tr>\n",
       "      <th>0</th>\n",
       "      <td>Melbourne Water</td>\n",
       "      <td>Melbourne, Australia</td>\n",
       "      <td>Manual Technical Writer Eastern Tertiary Alliance</td>\n",
       "    </tr>\n",
       "    <tr>\n",
       "      <th>1</th>\n",
       "      <td>VP Health Systems</td>\n",
       "      <td>Sydney Area, Australia</td>\n",
       "      <td>Director Of Program Services</td>\n",
       "    </tr>\n",
       "    <tr>\n",
       "      <th>2</th>\n",
       "      <td>Modis Australia (formerly Ajilon)</td>\n",
       "      <td>Spit Junction, New South Wales, Australia</td>\n",
       "      <td>Solutions Architect</td>\n",
       "    </tr>\n",
       "    <tr>\n",
       "      <th>3</th>\n",
       "      <td>Australian Department of Health</td>\n",
       "      <td>Noosa Heads, Queensland, Australia</td>\n",
       "      <td>Assistant Director International Strategies Br...</td>\n",
       "    </tr>\n",
       "    <tr>\n",
       "      <th>4</th>\n",
       "      <td>Skiva</td>\n",
       "      <td>Sydney, New South Wales, Australia</td>\n",
       "      <td>Test Analyst</td>\n",
       "    </tr>\n",
       "  </tbody>\n",
       "</table>\n",
       "</div>"
      ],
      "text/plain": [
       "                        Company Name  \\\n",
       "0                    Melbourne Water   \n",
       "1                  VP Health Systems   \n",
       "2  Modis Australia (formerly Ajilon)   \n",
       "3    Australian Department of Health   \n",
       "4                              Skiva   \n",
       "\n",
       "                                    Location  \\\n",
       "0                       Melbourne, Australia   \n",
       "1                     Sydney Area, Australia   \n",
       "2  Spit Junction, New South Wales, Australia   \n",
       "3         Noosa Heads, Queensland, Australia   \n",
       "4         Sydney, New South Wales, Australia   \n",
       "\n",
       "                                           Job Title  \n",
       "0  Manual Technical Writer Eastern Tertiary Alliance  \n",
       "1                       Director Of Program Services  \n",
       "2                                Solutions Architect  \n",
       "3  Assistant Director International Strategies Br...  \n",
       "4                                       Test Analyst  "
      ]
     },
     "execution_count": 16,
     "metadata": {},
     "output_type": "execute_result"
    }
   ],
   "source": [
    "df.head(5)"
   ]
  },
  {
   "cell_type": "code",
   "execution_count": 17,
   "metadata": {
    "id": "sqWtYdwPYGGu"
   },
   "outputs": [],
   "source": [
    "df[\"Content\"]=df.apply(lambda x:\" \".join(x.dropna().astype(str)),axis=1)"
   ]
  },
  {
   "cell_type": "code",
   "execution_count": 18,
   "metadata": {
    "colab": {
     "base_uri": "https://localhost:8080/",
     "height": 423
    },
    "id": "5VpRPzK2YU7c",
    "outputId": "f6f3002d-5904-4c41-a402-2f483e81f4c9"
   },
   "outputs": [
    {
     "data": {
      "text/html": [
       "<div>\n",
       "<style scoped>\n",
       "    .dataframe tbody tr th:only-of-type {\n",
       "        vertical-align: middle;\n",
       "    }\n",
       "\n",
       "    .dataframe tbody tr th {\n",
       "        vertical-align: top;\n",
       "    }\n",
       "\n",
       "    .dataframe thead th {\n",
       "        text-align: right;\n",
       "    }\n",
       "</style>\n",
       "<table border=\"1\" class=\"dataframe\">\n",
       "  <thead>\n",
       "    <tr style=\"text-align: right;\">\n",
       "      <th></th>\n",
       "      <th>Company Name</th>\n",
       "      <th>Location</th>\n",
       "      <th>Job Title</th>\n",
       "      <th>Content</th>\n",
       "    </tr>\n",
       "  </thead>\n",
       "  <tbody>\n",
       "    <tr>\n",
       "      <th>0</th>\n",
       "      <td>Melbourne Water</td>\n",
       "      <td>Melbourne, Australia</td>\n",
       "      <td>Manual Technical Writer Eastern Tertiary Alliance</td>\n",
       "      <td>Melbourne Water Melbourne, Australia Manual Te...</td>\n",
       "    </tr>\n",
       "    <tr>\n",
       "      <th>1</th>\n",
       "      <td>VP Health Systems</td>\n",
       "      <td>Sydney Area, Australia</td>\n",
       "      <td>Director Of Program Services</td>\n",
       "      <td>VP Health Systems Sydney Area, Australia Direc...</td>\n",
       "    </tr>\n",
       "    <tr>\n",
       "      <th>2</th>\n",
       "      <td>Modis Australia (formerly Ajilon)</td>\n",
       "      <td>Spit Junction, New South Wales, Australia</td>\n",
       "      <td>Solutions Architect</td>\n",
       "      <td>Modis Australia (formerly Ajilon) Spit Junctio...</td>\n",
       "    </tr>\n",
       "    <tr>\n",
       "      <th>3</th>\n",
       "      <td>Australian Department of Health</td>\n",
       "      <td>Noosa Heads, Queensland, Australia</td>\n",
       "      <td>Assistant Director International Strategies Br...</td>\n",
       "      <td>Australian Department of Health Noosa Heads, Q...</td>\n",
       "    </tr>\n",
       "    <tr>\n",
       "      <th>4</th>\n",
       "      <td>Skiva</td>\n",
       "      <td>Sydney, New South Wales, Australia</td>\n",
       "      <td>Test Analyst</td>\n",
       "      <td>Skiva Sydney, New South Wales, Australia Test ...</td>\n",
       "    </tr>\n",
       "    <tr>\n",
       "      <th>...</th>\n",
       "      <td>...</td>\n",
       "      <td>...</td>\n",
       "      <td>...</td>\n",
       "      <td>...</td>\n",
       "    </tr>\n",
       "    <tr>\n",
       "      <th>4995</th>\n",
       "      <td>University of Victoria</td>\n",
       "      <td>Sydney Area, Australia</td>\n",
       "      <td>Postdoctoral Fellow</td>\n",
       "      <td>University of Victoria Sydney Area, Australia ...</td>\n",
       "    </tr>\n",
       "    <tr>\n",
       "      <th>4996</th>\n",
       "      <td>Gloria Jean's Coffees</td>\n",
       "      <td>Newcastle Area, Australia</td>\n",
       "      <td>Barista</td>\n",
       "      <td>Gloria Jean's Coffees Newcastle Area, Australi...</td>\n",
       "    </tr>\n",
       "    <tr>\n",
       "      <th>4997</th>\n",
       "      <td>BNI Sydney Central South</td>\n",
       "      <td>Sydney Area, Australia</td>\n",
       "      <td>Executive Director</td>\n",
       "      <td>BNI Sydney Central South Sydney Area, Australi...</td>\n",
       "    </tr>\n",
       "    <tr>\n",
       "      <th>4998</th>\n",
       "      <td>Department of Sustainability and Environment</td>\n",
       "      <td>Melbourne Area, Australia</td>\n",
       "      <td>Online Communications Adviser</td>\n",
       "      <td>Department of Sustainability and Environment M...</td>\n",
       "    </tr>\n",
       "    <tr>\n",
       "      <th>4999</th>\n",
       "      <td>University of Technology Sydney</td>\n",
       "      <td>Sydney Area, Australia</td>\n",
       "      <td>Visiting Professional Fellow</td>\n",
       "      <td>University of Technology Sydney Sydney Area, A...</td>\n",
       "    </tr>\n",
       "  </tbody>\n",
       "</table>\n",
       "<p>5000 rows × 4 columns</p>\n",
       "</div>"
      ],
      "text/plain": [
       "                                      Company Name  \\\n",
       "0                                  Melbourne Water   \n",
       "1                                VP Health Systems   \n",
       "2                Modis Australia (formerly Ajilon)   \n",
       "3                  Australian Department of Health   \n",
       "4                                            Skiva   \n",
       "...                                            ...   \n",
       "4995                        University of Victoria   \n",
       "4996                         Gloria Jean's Coffees   \n",
       "4997                      BNI Sydney Central South   \n",
       "4998  Department of Sustainability and Environment   \n",
       "4999               University of Technology Sydney   \n",
       "\n",
       "                                       Location  \\\n",
       "0                          Melbourne, Australia   \n",
       "1                        Sydney Area, Australia   \n",
       "2     Spit Junction, New South Wales, Australia   \n",
       "3            Noosa Heads, Queensland, Australia   \n",
       "4            Sydney, New South Wales, Australia   \n",
       "...                                         ...   \n",
       "4995                     Sydney Area, Australia   \n",
       "4996                  Newcastle Area, Australia   \n",
       "4997                     Sydney Area, Australia   \n",
       "4998                  Melbourne Area, Australia   \n",
       "4999                     Sydney Area, Australia   \n",
       "\n",
       "                                              Job Title  \\\n",
       "0     Manual Technical Writer Eastern Tertiary Alliance   \n",
       "1                          Director Of Program Services   \n",
       "2                                   Solutions Architect   \n",
       "3     Assistant Director International Strategies Br...   \n",
       "4                                          Test Analyst   \n",
       "...                                                 ...   \n",
       "4995                                Postdoctoral Fellow   \n",
       "4996                                            Barista   \n",
       "4997                                 Executive Director   \n",
       "4998                      Online Communications Adviser   \n",
       "4999                       Visiting Professional Fellow   \n",
       "\n",
       "                                                Content  \n",
       "0     Melbourne Water Melbourne, Australia Manual Te...  \n",
       "1     VP Health Systems Sydney Area, Australia Direc...  \n",
       "2     Modis Australia (formerly Ajilon) Spit Junctio...  \n",
       "3     Australian Department of Health Noosa Heads, Q...  \n",
       "4     Skiva Sydney, New South Wales, Australia Test ...  \n",
       "...                                                 ...  \n",
       "4995  University of Victoria Sydney Area, Australia ...  \n",
       "4996  Gloria Jean's Coffees Newcastle Area, Australi...  \n",
       "4997  BNI Sydney Central South Sydney Area, Australi...  \n",
       "4998  Department of Sustainability and Environment M...  \n",
       "4999  University of Technology Sydney Sydney Area, A...  \n",
       "\n",
       "[5000 rows x 4 columns]"
      ]
     },
     "execution_count": 18,
     "metadata": {},
     "output_type": "execute_result"
    }
   ],
   "source": [
    "df"
   ]
  },
  {
   "cell_type": "code",
   "execution_count": 19,
   "metadata": {
    "id": "JxrdOYmpYXCl"
   },
   "outputs": [],
   "source": [
    "from  sklearn.metrics.pairwise import cosine_similarity\n",
    "from sklearn.feature_extraction.text import CountVectorizer\n",
    "cv=CountVectorizer(max_features=5000)"
   ]
  },
  {
   "cell_type": "code",
   "execution_count": 20,
   "metadata": {
    "colab": {
     "base_uri": "https://localhost:8080/"
    },
    "id": "8mwojWtPZKtI",
    "outputId": "a27e5303-61e4-4ef7-d019-51510c195f3b"
   },
   "outputs": [
    {
     "data": {
      "text/plain": [
       "(5000, 5000)"
      ]
     },
     "execution_count": 20,
     "metadata": {},
     "output_type": "execute_result"
    }
   ],
   "source": [
    "metrics=cv.fit_transform(df[\"Content\"]).toarray()\n",
    "metrics.shape"
   ]
  },
  {
   "cell_type": "code",
   "execution_count": 21,
   "metadata": {
    "id": "Sn8WXkchZSht"
   },
   "outputs": [],
   "source": [
    "similarity=cosine_similarity(metrics)"
   ]
  },
  {
   "cell_type": "code",
   "execution_count": 22,
   "metadata": {
    "id": "xdME9tn4ZpSF"
   },
   "outputs": [],
   "source": [
    "def recommend(Job_Title):\n",
    "    index = df[df['Job Title'] == Job_Title ].index[0]\n",
    "    distances = sorted(list(enumerate(similarity[index])),reverse=True,key = lambda x: x[1])\n",
    "    new_index= [ i[0] for i in distances[1:11]]\n",
    "    return df.iloc[new_index,:-1]"
   ]
  },
  {
   "cell_type": "code",
   "execution_count": 24,
   "metadata": {
    "colab": {
     "base_uri": "https://localhost:8080/",
     "height": 363
    },
    "id": "hVCc6y3VcVBl",
    "outputId": "998ff852-155e-443c-f4f2-b2bbb06b4011"
   },
   "outputs": [
    {
     "data": {
      "text/html": [
       "<div>\n",
       "<style scoped>\n",
       "    .dataframe tbody tr th:only-of-type {\n",
       "        vertical-align: middle;\n",
       "    }\n",
       "\n",
       "    .dataframe tbody tr th {\n",
       "        vertical-align: top;\n",
       "    }\n",
       "\n",
       "    .dataframe thead th {\n",
       "        text-align: right;\n",
       "    }\n",
       "</style>\n",
       "<table border=\"1\" class=\"dataframe\">\n",
       "  <thead>\n",
       "    <tr style=\"text-align: right;\">\n",
       "      <th></th>\n",
       "      <th>Company Name</th>\n",
       "      <th>Location</th>\n",
       "      <th>Job Title</th>\n",
       "    </tr>\n",
       "  </thead>\n",
       "  <tbody>\n",
       "    <tr>\n",
       "      <th>1478</th>\n",
       "      <td>University of Sydney</td>\n",
       "      <td>Sydney Area, Australia</td>\n",
       "      <td>Business Analyst</td>\n",
       "    </tr>\n",
       "    <tr>\n",
       "      <th>2965</th>\n",
       "      <td>Australian Bureau of Statistics</td>\n",
       "      <td>Canberra, Australia</td>\n",
       "      <td>Business Manager</td>\n",
       "    </tr>\n",
       "    <tr>\n",
       "      <th>371</th>\n",
       "      <td>University of Sydney</td>\n",
       "      <td>Sydney Area, Australia</td>\n",
       "      <td>Lecturer</td>\n",
       "    </tr>\n",
       "    <tr>\n",
       "      <th>2682</th>\n",
       "      <td>Australian Bureau of Statistics</td>\n",
       "      <td>Brisbane, Australia</td>\n",
       "      <td>Census Field Officer</td>\n",
       "    </tr>\n",
       "    <tr>\n",
       "      <th>2873</th>\n",
       "      <td>Property Council of Australia</td>\n",
       "      <td>Sydney, Australia</td>\n",
       "      <td>Analyst</td>\n",
       "    </tr>\n",
       "    <tr>\n",
       "      <th>3280</th>\n",
       "      <td>University of Sydney</td>\n",
       "      <td>Sydney Area, Australia</td>\n",
       "      <td>Tutor</td>\n",
       "    </tr>\n",
       "    <tr>\n",
       "      <th>213</th>\n",
       "      <td>Optus</td>\n",
       "      <td>Sydney Area, Australia</td>\n",
       "      <td>Business Analyst</td>\n",
       "    </tr>\n",
       "    <tr>\n",
       "      <th>1943</th>\n",
       "      <td>Nokia</td>\n",
       "      <td>Sydney Area, Australia</td>\n",
       "      <td>Interface Analyst</td>\n",
       "    </tr>\n",
       "    <tr>\n",
       "      <th>3908</th>\n",
       "      <td>Vodafone</td>\n",
       "      <td>Sydney Area, Australia</td>\n",
       "      <td>Analyst Programmer</td>\n",
       "    </tr>\n",
       "    <tr>\n",
       "      <th>4681</th>\n",
       "      <td>Cochlear</td>\n",
       "      <td>Sydney Area, Australia</td>\n",
       "      <td>Systems Analyst</td>\n",
       "    </tr>\n",
       "  </tbody>\n",
       "</table>\n",
       "</div>"
      ],
      "text/plain": [
       "                         Company Name                Location  \\\n",
       "1478             University of Sydney  Sydney Area, Australia   \n",
       "2965  Australian Bureau of Statistics     Canberra, Australia   \n",
       "371              University of Sydney  Sydney Area, Australia   \n",
       "2682  Australian Bureau of Statistics     Brisbane, Australia   \n",
       "2873    Property Council of Australia       Sydney, Australia   \n",
       "3280             University of Sydney  Sydney Area, Australia   \n",
       "213                             Optus  Sydney Area, Australia   \n",
       "1943                            Nokia  Sydney Area, Australia   \n",
       "3908                         Vodafone  Sydney Area, Australia   \n",
       "4681                         Cochlear  Sydney Area, Australia   \n",
       "\n",
       "                 Job Title  \n",
       "1478      Business Analyst  \n",
       "2965      Business Manager  \n",
       "371               Lecturer  \n",
       "2682  Census Field Officer  \n",
       "2873               Analyst  \n",
       "3280                 Tutor  \n",
       "213       Business Analyst  \n",
       "1943     Interface Analyst  \n",
       "3908    Analyst Programmer  \n",
       "4681       Systems Analyst  "
      ]
     },
     "execution_count": 24,
     "metadata": {},
     "output_type": "execute_result"
    }
   ],
   "source": [
    "recommend(\"Analyst\")\n"
   ]
  },
  {
   "cell_type": "code",
   "execution_count": null,
   "metadata": {
    "id": "ZAEJgdqMf2VX"
   },
   "outputs": [],
   "source": []
  }
 ],
 "metadata": {
  "colab": {
   "provenance": []
  },
  "kernelspec": {
   "display_name": "Python 3 (ipykernel)",
   "language": "python",
   "name": "python3"
  },
  "language_info": {
   "codemirror_mode": {
    "name": "ipython",
    "version": 3
   },
   "file_extension": ".py",
   "mimetype": "text/x-python",
   "name": "python",
   "nbconvert_exporter": "python",
   "pygments_lexer": "ipython3",
   "version": "3.10.9"
  }
 },
 "nbformat": 4,
 "nbformat_minor": 1
}
